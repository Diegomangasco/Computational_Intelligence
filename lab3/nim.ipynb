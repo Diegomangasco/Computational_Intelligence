{
 "cells": [
  {
   "cell_type": "markdown",
   "metadata": {},
   "source": [
    "### Imports"
   ]
  },
  {
   "cell_type": "code",
   "execution_count": 313,
   "metadata": {},
   "outputs": [],
   "source": [
    "import logging\n",
    "import random\n",
    "from functools import reduce\n",
    "\n",
    "logging.getLogger().setLevel(logging.INFO)"
   ]
  },
  {
   "cell_type": "markdown",
   "metadata": {},
   "source": [
    "### Define the class"
   ]
  },
  {
   "cell_type": "code",
   "execution_count": 314,
   "metadata": {},
   "outputs": [],
   "source": [
    "class Nim:\n",
    "    def __init__(self, num_rows: int, k: int = None) -> None:\n",
    "        self._rows = [i*2+1 for i in range(num_rows)]\n",
    "        self._k = k\n",
    "\n",
    "    def nimming_remove(self, row: int, num_objects: int) -> None:\n",
    "        assert self._rows[row] >= num_objects\n",
    "        assert self._k is None or num_objects < self._k\n",
    "        self._rows[row] -= num_objects\n",
    "    \n",
    "    def nimming_add(self, row: int, num_objects: int) -> None:\n",
    "        self._rows[row] += num_objects\n",
    "\n",
    "    def goal(self) -> bool:\n",
    "        # Check if someone has won\n",
    "        return sum(self._rows) == 0"
   ]
  },
  {
   "cell_type": "markdown",
   "metadata": {},
   "source": [
    "### Random player"
   ]
  },
  {
   "cell_type": "code",
   "execution_count": 315,
   "metadata": {},
   "outputs": [],
   "source": [
    "class RandomPlayer:\n",
    "    def __init__(self) -> None:\n",
    "        self._moves = []\n",
    "        self._nMoves = 0\n",
    "    \n",
    "    def play(self, nim: Nim) -> None:\n",
    "        # Chose a random row and a random number of pieces\n",
    "        x = random.randint(0, len(nim._rows)-1)\n",
    "        while nim._rows[x] == 0:\n",
    "            x = random.randint(0, len(nim._rows)-1)\n",
    "        y = random.randint(1, nim._rows[x])\n",
    "        # Update the attributes\n",
    "        self._nMoves += 1\n",
    "        self._moves.append(f\"{y} items from row {x}\")\n",
    "        nim.nimming_remove(x, y)\n",
    "        \n",
    "    def printSolution(self) -> None:\n",
    "        logging.info(f\" Random player won, moves have been: {self._moves}; total: {self._nMoves}\")"
   ]
  },
  {
   "cell_type": "markdown",
   "metadata": {},
   "source": [
    "### Task3.1: An agent using fixed rules based on nim-sum (i.e., an expert system)"
   ]
  },
  {
   "cell_type": "code",
   "execution_count": 316,
   "metadata": {},
   "outputs": [],
   "source": [
    "def verify_state(nrow: int, num_objects: int, nim: Nim) -> bool:\n",
    "    # Verify of the new game state is useful for the player with the nim sum rule\n",
    "    xor = reduce(lambda a, b: a ^ b, nim._rows)\n",
    "    if xor == 0:\n",
    "        return True\n",
    "    else:\n",
    "        return False"
   ]
  },
  {
   "cell_type": "code",
   "execution_count": 317,
   "metadata": {},
   "outputs": [],
   "source": [
    "class ExpertSystem:\n",
    "    def __init__(self) -> None:\n",
    "        self._nMoves = 0\n",
    "        self._moves = []\n",
    "\n",
    "    def printSolution(self) -> None:\n",
    "        logging.info(f\" Expert system won, moves have been: {self._moves}; total: {self._nMoves}\")\n",
    "    \n",
    "    def play(self, nim: Nim) -> None:\n",
    "        x = 0\n",
    "        y = 0\n",
    "        valid = False\n",
    "        flag = True\n",
    "        not_found = False\n",
    "        x_already_taken = []\n",
    "        # Chose a random row and a random number of pieces\n",
    "        while flag:\n",
    "            x = random.randint(0, len(nim._rows)-1)\n",
    "            # If I have already tried the row x\n",
    "            while nim._rows[x] == 0 or x in x_already_taken:\n",
    "                if len(x_already_taken) == len(nim._rows):\n",
    "                    # All rows have already been tried\n",
    "                    flag = False\n",
    "                    not_found = True\n",
    "                    break\n",
    "                x = random.randint(0, len(nim._rows)-1)\n",
    "            x_already_taken.append(x)\n",
    "            y_already_taken = []\n",
    "            while flag == True and valid == False and len(y_already_taken) < nim._rows[x]:\n",
    "                y = random.randint(1, nim._rows[x])\n",
    "                if y not in y_already_taken:\n",
    "                    # If the deleting of y objects has not been already tried\n",
    "                    y_already_taken.append(y)\n",
    "                    nim.nimming_remove(x, y)\n",
    "                    valid = verify_state(x, y, nim)\n",
    "                    if valid == True:\n",
    "                        # Found a good move\n",
    "                        flag = False\n",
    "                    else:\n",
    "                        # Restore the game as before if the solution is useless for the player (search for another)\n",
    "                        nim.nimming_add(x, y)\n",
    "\n",
    "        if not_found:\n",
    "            # If no valid moves were found, do a random move\n",
    "            x = random.randint(0, len(nim._rows)-1)\n",
    "            while nim._rows[x] == 0:\n",
    "                x = random.randint(0, len(nim._rows)-1)\n",
    "            y = random.randint(1, nim._rows[x])\n",
    "            nim.nimming_remove(x, y)\n",
    "            \n",
    "        self._nMoves += 1\n",
    "        self._moves.append(f\"{y} items from row {x}\")"
   ]
  },
  {
   "cell_type": "code",
   "execution_count": 318,
   "metadata": {},
   "outputs": [
    {
     "name": "stderr",
     "output_type": "stream",
     "text": [
      "INFO:root: Expert system won, moves have been: ['2 items from row 3', '3 items from row 1', '5 items from row 2']; total: 3\n"
     ]
    },
    {
     "name": "stdout",
     "output_type": "stream",
     "text": [
      "Start game:  [1, 3, 5, 7]\n",
      "Game after Expert system played:  [1, 3, 5, 5]\n",
      "Game after Random player played:  [0, 3, 5, 5]\n",
      "Game after Expert system played:  [0, 0, 5, 5]\n",
      "Game after Random player played:  [0, 0, 5, 0]\n",
      "Game after Expert system played:  [0, 0, 0, 0]\n"
     ]
    }
   ],
   "source": [
    "nim = Nim(4)\n",
    "player1 = RandomPlayer()\n",
    "player2 = ExpertSystem()\n",
    "win = random.choice([1, 2])\n",
    "print(\"Start game: \", nim._rows)\n",
    "while nim.goal() == False:\n",
    "    if win == 1:\n",
    "        player1.play(nim)\n",
    "        print(\"Game after Random player played: \", nim._rows)\n",
    "        win = 2\n",
    "    else:\n",
    "        player2.play(nim)\n",
    "        print(\"Game after Expert system played: \", nim._rows)\n",
    "        win = 1\n",
    "if win == 2:\n",
    "    player1.printSolution()\n",
    "else:\n",
    "    player2.printSolution()"
   ]
  }
 ],
 "metadata": {
  "kernelspec": {
   "display_name": "Python 3.10.8 64-bit",
   "language": "python",
   "name": "python3"
  },
  "language_info": {
   "codemirror_mode": {
    "name": "ipython",
    "version": 3
   },
   "file_extension": ".py",
   "mimetype": "text/x-python",
   "name": "python",
   "nbconvert_exporter": "python",
   "pygments_lexer": "ipython3",
   "version": "3.10.8"
  },
  "orig_nbformat": 4,
  "vscode": {
   "interpreter": {
    "hash": "98b7f83ea1f6816592be813d0a9257f9f3e2d15bf5c320e3b781c72faa584dce"
   }
  }
 },
 "nbformat": 4,
 "nbformat_minor": 2
}
