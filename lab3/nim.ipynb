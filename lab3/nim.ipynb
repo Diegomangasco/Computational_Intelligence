{
 "cells": [
  {
   "cell_type": "markdown",
   "metadata": {},
   "source": [
    "## Imports"
   ]
  },
  {
   "cell_type": "code",
   "execution_count": 2,
   "metadata": {},
   "outputs": [],
   "source": [
    "import logging\n",
    "import random\n",
    "from functools import reduce\n",
    "from typing import Callable\n",
    "\n",
    "logging.getLogger().setLevel(logging.INFO)"
   ]
  },
  {
   "cell_type": "markdown",
   "metadata": {},
   "source": [
    "## Define the class Nim"
   ]
  },
  {
   "cell_type": "code",
   "execution_count": 3,
   "metadata": {},
   "outputs": [],
   "source": [
    "class Nim:\n",
    "    def __init__(self, num_rows: int, k: int = None) -> None:\n",
    "        self._rows = [i*2+1 for i in range(num_rows)]\n",
    "        self._k = k\n",
    "\n",
    "    def nimming_remove(self, row: int, num_objects: int) -> None:\n",
    "        assert self._rows[row] >= num_objects\n",
    "        assert self._k is None or num_objects < self._k\n",
    "        self._rows[row] -= num_objects\n",
    "    \n",
    "    def nimming_add(self, row: int, num_objects: int) -> None:\n",
    "        self._rows[row] += num_objects\n",
    "\n",
    "    def goal(self) -> bool:\n",
    "        # Check if someone has won\n",
    "        return sum(self._rows) == 0"
   ]
  },
  {
   "cell_type": "markdown",
   "metadata": {},
   "source": [
    "## Random player"
   ]
  },
  {
   "cell_type": "code",
   "execution_count": 4,
   "metadata": {},
   "outputs": [],
   "source": [
    "class RandomPlayer:\n",
    "    def __init__(self) -> None:\n",
    "        self._moves = []\n",
    "        self._nMoves = 0\n",
    "    \n",
    "    def play(self, nim: Nim) -> None:\n",
    "        # Chose a random row and a random number of pieces\n",
    "        x = random.randint(0, len(nim._rows)-1)\n",
    "        while nim._rows[x] == 0:\n",
    "            x = random.randint(0, len(nim._rows)-1)\n",
    "        y = random.randint(1, nim._rows[x])\n",
    "        # Update the attributes\n",
    "        self._nMoves += 1\n",
    "        self._moves.append(f\"{y} items from row {x}\")\n",
    "        nim.nimming_remove(x, y)\n",
    "        \n",
    "    def printSolution(self) -> None:\n",
    "        logging.info(f\" Random player won, moves have been: {self._moves}; total: {self._nMoves}\")"
   ]
  },
  {
   "cell_type": "markdown",
   "metadata": {},
   "source": [
    "## Nim sum verifier"
   ]
  },
  {
   "cell_type": "code",
   "execution_count": 47,
   "metadata": {},
   "outputs": [],
   "source": [
    "def verify_state(nim: Nim) -> bool:\n",
    "    # Verify of the new game state is useful for the player with the nim sum rule\n",
    "    xor = reduce(lambda a, b: a ^ b, nim._rows)\n",
    "    if xor == 0:\n",
    "        return True\n",
    "    else:\n",
    "        return False"
   ]
  },
  {
   "cell_type": "markdown",
   "metadata": {},
   "source": [
    "## Task3.1: An agent using fixed rules based on nim-sum (i.e., an expert system)"
   ]
  },
  {
   "cell_type": "markdown",
   "metadata": {},
   "source": [
    "### Expert System"
   ]
  },
  {
   "cell_type": "code",
   "execution_count": 45,
   "metadata": {},
   "outputs": [],
   "source": [
    "class ExpertSystem:\n",
    "    def __init__(self) -> None:\n",
    "        self._nMoves = 0\n",
    "        self._moves = []\n",
    "\n",
    "    def printSolution(self) -> None:\n",
    "        logging.info(f\" Expert system won, moves have been: {self._moves}; total: {self._nMoves}\")\n",
    "    \n",
    "    def play(self, nim: Nim) -> None:\n",
    "        possible = [(r, o) for r, c in enumerate(nim._rows) for o in range(1, c + 1)]\n",
    "        for ply in possible:\n",
    "            nim.nimming_remove(ply[0], ply[1])\n",
    "            valid = verify_state(nim)\n",
    "            if valid:\n",
    "                break\n",
    "            else:\n",
    "                nim.nimming_add(ply[0], ply[1])\n",
    "\n",
    "        if not valid:\n",
    "            ply = random.choice(possible)\n",
    "            nim.nimming_remove(ply[0], ply[1])\n",
    "            \n",
    "        self._nMoves += 1\n",
    "        self._moves.append(f\"{ply[1]} items from row {ply[0]}\")"
   ]
  },
  {
   "cell_type": "markdown",
   "metadata": {},
   "source": [
    "## Task3.2: An agent using evolved rules"
   ]
  },
  {
   "cell_type": "code",
   "execution_count": null,
   "metadata": {},
   "outputs": [],
   "source": [
    "def cook_status(nim: Nim) -> dict:\n",
    "    cooked = dict()\n",
    "    cooked['possible_moves'] = [(r, o) for r, c in enumerate(nim._rows) for o in range(1, c + 1) if nim._k is None or o <= nim._k]\n",
    "    cooked['active_rows_number'] = sum(r > 0 for r in nim._rows)\n",
    "    cooked['shortest_row'] = min((x for x in enumerate(nim._rows) if x[1] > 0), key= lambda y: y[1])[0]\n",
    "    cooked['longest_row'] = max((x for x in enumerate(nim._rows) if x[1] > 0), key= lambda y: y[1])[0]\n",
    "    cooked['nim_status'] = verify_state(nim)\n",
    "\n",
    "    brute_force = list()\n",
    "    for m in cooked['possible_moves']:\n",
    "        nim.nimming_remove()\n",
    "    return cooked"
   ]
  },
  {
   "cell_type": "code",
   "execution_count": null,
   "metadata": {},
   "outputs": [],
   "source": [
    "def optimal_strategy(nim: Nim) -> tuple:\n",
    "    data = cook_status(nim)\n",
    "    return next(bf for bf in data['brute_force'] if bf[1] == 0)[0]"
   ]
  },
  {
   "cell_type": "code",
   "execution_count": 14,
   "metadata": {},
   "outputs": [
    {
     "ename": "SyntaxError",
     "evalue": "incomplete input (3588321753.py, line 4)",
     "output_type": "error",
     "traceback": [
      "\u001b[1;36m  Cell \u001b[1;32mIn [14], line 4\u001b[1;36m\u001b[0m\n\u001b[1;33m    if random.random() < genome['p']:\u001b[0m\n\u001b[1;37m                                     ^\u001b[0m\n\u001b[1;31mSyntaxError\u001b[0m\u001b[1;31m:\u001b[0m incomplete input\n"
     ]
    }
   ],
   "source": [
    "def evaluate():\n",
    "    pass\n",
    "\n",
    "def make_strategy(genome: dict) -> Callable:\n",
    "    def evolvable(nim: Nim) -> tuple:\n",
    "        data = cook_status(nim)\n",
    "        genome\n",
    "\n",
    "        if random.random() < genome['p']:\n",
    "            ply = (data['shortest_row'], random.randint(1, nim._rows[data['shortest_row']]))\n",
    "        else:\n",
    "            ply = (data['longest_row'], random.randint(1, nim._rows[data['longest_row']]))\n",
    "        \n",
    "        return ply\n",
    "    return evolvable"
   ]
  },
  {
   "cell_type": "markdown",
   "metadata": {},
   "source": [
    "## Task3.3: An agent using minmax"
   ]
  },
  {
   "cell_type": "markdown",
   "metadata": {},
   "source": [
    "### MinMax System"
   ]
  },
  {
   "cell_type": "code",
   "execution_count": 44,
   "metadata": {},
   "outputs": [],
   "source": [
    "class MinMaxSystem:\n",
    "    def __init__(self) -> None:\n",
    "        self._nmoves = 0\n",
    "        self._moves = []\n",
    "\n",
    "    def printSolution(self) -> None:\n",
    "        logging.info(f\" MinMax system won, moves have been: {self._moves}; total: {self._nmoves}\")\n",
    "\n",
    "    def minmax(self, nim: Nim, player: bool):\n",
    "        possible = [(r, o) for r, c in enumerate(nim._rows) for o in range(1, c + 1)]\n",
    "        # True player is the MinMax system, False player is the other player\n",
    "        if not possible:\n",
    "            if player:\n",
    "                # No win -> the other player arrives with the table empty\n",
    "                return (None, -1)\n",
    "            else:\n",
    "                # Win -> the MinMax system arrives with the table empty\n",
    "                return (None, 1)\n",
    "        evaluations = list()\n",
    "        for ply in possible:\n",
    "            nim.nimming_remove(ply[0], ply[1])\n",
    "            # Recursive call\n",
    "            _, val = self.minmax(nim, not player)\n",
    "            if val == 1:\n",
    "                # Found a good path, return it\n",
    "                nim.nimming_add(ply[0], ply[1])\n",
    "                return (ply, val)\n",
    "            evaluations.append((ply, val))\n",
    "            # Restore the previous situation for another evaluation\n",
    "            nim.nimming_add(ply[0], ply[1])\n",
    "        return evaluations[0]\n",
    "\n",
    "    def play(self, nim: Nim):\n",
    "        best_ply, _ = self.minmax(nim, player=True)\n",
    "        nim.nimming_remove(best_ply[0], best_ply[1])\n",
    "        self._nmoves += 1\n",
    "        self._moves.append(f\"{best_ply[1]} items from row {best_ply[0]}\")"
   ]
  },
  {
   "cell_type": "markdown",
   "metadata": {},
   "source": [
    "## Task3.4: An agent using reinforcement learning"
   ]
  },
  {
   "cell_type": "code",
   "execution_count": null,
   "metadata": {},
   "outputs": [],
   "source": []
  },
  {
   "cell_type": "markdown",
   "metadata": {},
   "source": [
    "## Games"
   ]
  },
  {
   "cell_type": "markdown",
   "metadata": {},
   "source": [
    "### Random vs Expert"
   ]
  },
  {
   "cell_type": "code",
   "execution_count": null,
   "metadata": {},
   "outputs": [],
   "source": [
    "nim = Nim(7)\n",
    "player1 = RandomPlayer()\n",
    "player2 = ExpertSystem()\n",
    "win = random.choice([1, 2])\n",
    "print(\"Start game: \", nim._rows)\n",
    "while nim.goal() == False:\n",
    "    if win == 1:\n",
    "        player1.play(nim)\n",
    "        print(\"Game after Random player played: \", nim._rows)\n",
    "        win = 2\n",
    "    else:\n",
    "        player2.play(nim)\n",
    "        print(\"Game after Expert system played: \", nim._rows)\n",
    "        win = 1\n",
    "if win == 1:\n",
    "    player2.printSolution()\n",
    "else:\n",
    "    player1.printSolution()"
   ]
  },
  {
   "cell_type": "markdown",
   "metadata": {},
   "source": [
    "### Random vs MinMax"
   ]
  },
  {
   "cell_type": "code",
   "execution_count": null,
   "metadata": {},
   "outputs": [],
   "source": [
    "nim = Nim(7)\n",
    "player1 = RandomPlayer()\n",
    "player2 = MinMaxSystem()\n",
    "win = random.choice([1, 2])\n",
    "print(\"Start game: \", nim._rows)\n",
    "while nim.goal() == False:\n",
    "    if win == 1:\n",
    "        player1.play(nim)\n",
    "        print(\"Game after Random player played: \", nim._rows)\n",
    "        win = 2\n",
    "    else:\n",
    "        player2.play(nim)\n",
    "        print(\"Game after MinMax system played: \", nim._rows)\n",
    "        win = 1\n",
    "if win == 1:\n",
    "    player2.printSolution()\n",
    "else:\n",
    "    player1.printSolution()"
   ]
  },
  {
   "cell_type": "markdown",
   "metadata": {},
   "source": [
    "### Expert vs MinMax"
   ]
  },
  {
   "cell_type": "code",
   "execution_count": null,
   "metadata": {},
   "outputs": [],
   "source": [
    "nim = Nim(7)\n",
    "player1 = ExpertSystem()\n",
    "player2 = MinMaxSystem()\n",
    "win = random.choice([1, 2])\n",
    "print(\"Start game: \", nim._rows)\n",
    "while nim.goal() == False:\n",
    "    if win == 1:\n",
    "        player1.play(nim)\n",
    "        print(\"Game after Expert System played: \", nim._rows)\n",
    "        win = 2\n",
    "    else:\n",
    "        player2.play(nim)\n",
    "        print(\"Game after MinMax system played: \", nim._rows)\n",
    "        win = 1\n",
    "if win == 1:\n",
    "    player2.printSolution()\n",
    "else:\n",
    "    player1.printSolution()"
   ]
  }
 ],
 "metadata": {
  "kernelspec": {
   "display_name": "Python 3.10.8 64-bit",
   "language": "python",
   "name": "python3"
  },
  "language_info": {
   "codemirror_mode": {
    "name": "ipython",
    "version": 3
   },
   "file_extension": ".py",
   "mimetype": "text/x-python",
   "name": "python",
   "nbconvert_exporter": "python",
   "pygments_lexer": "ipython3",
   "version": "3.10.8"
  },
  "orig_nbformat": 4,
  "vscode": {
   "interpreter": {
    "hash": "98b7f83ea1f6816592be813d0a9257f9f3e2d15bf5c320e3b781c72faa584dce"
   }
  }
 },
 "nbformat": 4,
 "nbformat_minor": 2
}
