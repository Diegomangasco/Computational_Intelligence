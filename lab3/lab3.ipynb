{
 "cells": [
  {
   "cell_type": "markdown",
   "metadata": {},
   "source": [
    "## Imports"
   ]
  },
  {
   "cell_type": "code",
   "execution_count": 1,
   "metadata": {},
   "outputs": [],
   "source": [
    "import random\n",
    "from lib import Nim\n",
    "from lib import RandomPlayer\n",
    "from lib import ExpertSystem\n",
    "from lib import GeneticAlgorithmSystem\n",
    "from lib import MinMaxSystem\n",
    "from lib import RLSystem"
   ]
  },
  {
   "cell_type": "markdown",
   "metadata": {},
   "source": [
    "## Games"
   ]
  },
  {
   "cell_type": "markdown",
   "metadata": {},
   "source": [
    "### Expert vs Random"
   ]
  },
  {
   "cell_type": "code",
   "execution_count": 2,
   "metadata": {},
   "outputs": [
    {
     "name": "stderr",
     "output_type": "stream",
     "text": [
      "INFO:root: Expert system won, moves have been: ['9 items from row 4', '2 items from row 1', '1 items from row 1', '11 items from row 6', '4 items from row 3', '3 items from row 2', '1 items from row 6']; total: 7\n"
     ]
    },
    {
     "name": "stdout",
     "output_type": "stream",
     "text": [
      "Start game:  [1, 3, 5, 7, 9, 11, 13]\n",
      "Game after Random player played:  [1, 3, 3, 7, 9, 11, 13]\n",
      "Game after Expert system played:  [1, 3, 3, 7, 0, 11, 13]\n",
      "Game after Random player played:  [1, 3, 3, 5, 0, 11, 13]\n",
      "Game after Expert system played:  [1, 1, 3, 5, 0, 11, 13]\n",
      "Game after Random player played:  [0, 1, 3, 5, 0, 11, 13]\n",
      "Game after Expert system played:  [0, 0, 3, 5, 0, 11, 13]\n",
      "Game after Random player played:  [0, 0, 3, 5, 0, 4, 13]\n",
      "Game after Expert system played:  [0, 0, 3, 5, 0, 4, 2]\n",
      "Game after Random player played:  [0, 0, 3, 5, 0, 0, 2]\n",
      "Game after Expert system played:  [0, 0, 3, 1, 0, 0, 2]\n",
      "Game after Random player played:  [0, 0, 3, 1, 0, 0, 1]\n",
      "Game after Expert system played:  [0, 0, 0, 1, 0, 0, 1]\n",
      "Game after Random player played:  [0, 0, 0, 0, 0, 0, 1]\n",
      "Game after Expert system played:  [0, 0, 0, 0, 0, 0, 0]\n"
     ]
    }
   ],
   "source": [
    "nim = Nim(7)\n",
    "player1 = RandomPlayer()\n",
    "player2 = ExpertSystem()\n",
    "win = random.choice([1, 2])\n",
    "print(\"Start game: \", nim._rows)\n",
    "while nim.goal() == False:\n",
    "    if win == 1:\n",
    "        player1.play(nim)\n",
    "        print(\"Game after Random player played: \", nim._rows)\n",
    "        win = 2\n",
    "    else:\n",
    "        player2.play(nim)\n",
    "        print(\"Game after Expert system played: \", nim._rows)\n",
    "        win = 1\n",
    "if win == 1:\n",
    "    player2.printSolution()\n",
    "else:\n",
    "    player1.printSolution()"
   ]
  },
  {
   "cell_type": "markdown",
   "metadata": {},
   "source": [
    "### Genetic Algorithm vs Random"
   ]
  },
  {
   "cell_type": "code",
   "execution_count": 2,
   "metadata": {},
   "outputs": [
    {
     "name": "stderr",
     "output_type": "stream",
     "text": [
      "INFO:root: Genetic Algorithm system won, moves have been: ['1 items from row 0', '2 items from row 6', '1 items from row 1', '4 items from row 3', '9 items from row 4', '2 items from row 6', '2 items from row 1', '1 items from row 2']; total: 8\n"
     ]
    },
    {
     "name": "stdout",
     "output_type": "stream",
     "text": [
      "Start game:  [1, 3, 5, 7, 9, 11, 13]\n",
      "Game after Genetic Algorithm system played:  [0, 3, 5, 7, 9, 11, 13]\n",
      "Game after Random player played:  [0, 3, 5, 4, 9, 11, 13]\n",
      "Game after Genetic Algorithm system played:  [0, 3, 5, 4, 9, 11, 11]\n",
      "Game after Random player played:  [0, 3, 5, 4, 9, 8, 11]\n",
      "Game after Genetic Algorithm system played:  [0, 2, 5, 4, 9, 8, 11]\n",
      "Game after Random player played:  [0, 2, 1, 4, 9, 8, 11]\n",
      "Game after Genetic Algorithm system played:  [0, 2, 1, 0, 9, 8, 11]\n",
      "Game after Random player played:  [0, 2, 1, 0, 9, 1, 11]\n",
      "Game after Genetic Algorithm system played:  [0, 2, 1, 0, 0, 1, 11]\n",
      "Game after Random player played:  [0, 2, 1, 0, 0, 1, 6]\n",
      "Game after Genetic Algorithm system played:  [0, 2, 1, 0, 0, 1, 4]\n",
      "Game after Random player played:  [0, 2, 1, 0, 0, 1, 0]\n",
      "Game after Genetic Algorithm system played:  [0, 0, 1, 0, 0, 1, 0]\n",
      "Game after Random player played:  [0, 0, 1, 0, 0, 0, 0]\n",
      "Game after Genetic Algorithm system played:  [0, 0, 0, 0, 0, 0, 0]\n"
     ]
    }
   ],
   "source": [
    "nim = Nim(7)\n",
    "player1 = RandomPlayer()\n",
    "player2 = GeneticAlgorithmSystem()\n",
    "parameters = player2.evolution(nim, player1)\n",
    "win = random.choice([1, 2])\n",
    "print(\"Start game: \", nim._rows)\n",
    "while nim.goal() == False:\n",
    "    if win == 1:\n",
    "        player1.play(nim)\n",
    "        print(\"Game after Random player played: \", nim._rows)\n",
    "        win = 2\n",
    "    else:\n",
    "        player2.play(nim, parameters)\n",
    "        print(\"Game after Genetic Algorithm system played: \", nim._rows)\n",
    "        win = 1\n",
    "if win == 1:\n",
    "    player2.printSolution()\n",
    "else:\n",
    "    player1.printSolution()"
   ]
  },
  {
   "cell_type": "markdown",
   "metadata": {},
   "source": [
    "### Genetic Algorithm vs Expert"
   ]
  },
  {
   "cell_type": "code",
   "execution_count": 4,
   "metadata": {},
   "outputs": [
    {
     "name": "stderr",
     "output_type": "stream",
     "text": [
      "INFO:root: Expert system won, moves have been: ['3 items from row 4', '1 items from row 1', '3 items from row 3', '2 items from row 2', '7 items from row 6', '1 items from row 2', '1 items from row 6', '3 items from row 3', '1 items from row 3']; total: 9\n"
     ]
    },
    {
     "name": "stdout",
     "output_type": "stream",
     "text": [
      "Start game:  [1, 3, 5, 7, 9, 11, 13]\n",
      "Game after Expert System played:  [1, 3, 5, 7, 6, 11, 13]\n",
      "Game after Genetic Algorithm system played:  [0, 3, 5, 7, 6, 11, 13]\n",
      "Game after Expert System played:  [0, 2, 5, 7, 6, 11, 13]\n",
      "Game after Genetic Algorithm system played:  [0, 1, 5, 7, 6, 11, 13]\n",
      "Game after Expert System played:  [0, 1, 5, 4, 6, 11, 13]\n",
      "Game after Genetic Algorithm system played:  [0, 1, 5, 4, 0, 11, 13]\n",
      "Game after Expert System played:  [0, 1, 3, 4, 0, 11, 13]\n",
      "Game after Genetic Algorithm system played:  [0, 1, 3, 4, 0, 0, 13]\n",
      "Game after Expert System played:  [0, 1, 3, 4, 0, 0, 6]\n",
      "Game after Genetic Algorithm system played:  [0, 0, 3, 4, 0, 0, 6]\n",
      "Game after Expert System played:  [0, 0, 2, 4, 0, 0, 6]\n",
      "Game after Genetic Algorithm system played:  [0, 0, 1, 4, 0, 0, 6]\n",
      "Game after Expert System played:  [0, 0, 1, 4, 0, 0, 5]\n",
      "Game after Genetic Algorithm system played:  [0, 0, 1, 4, 0, 0, 0]\n",
      "Game after Expert System played:  [0, 0, 1, 1, 0, 0, 0]\n",
      "Game after Genetic Algorithm system played:  [0, 0, 0, 1, 0, 0, 0]\n",
      "Game after Expert System played:  [0, 0, 0, 0, 0, 0, 0]\n"
     ]
    }
   ],
   "source": [
    "nim = Nim(7)\n",
    "player1 = ExpertSystem()\n",
    "player2 = GeneticAlgorithmSystem()\n",
    "player3 = RandomPlayer()\n",
    "parameters = player2.evolution(nim, player3)\n",
    "win = random.choice([1, 2])\n",
    "print(\"Start game: \", nim._rows)\n",
    "while nim.goal() == False:\n",
    "    if win == 1:\n",
    "        player1.play(nim)\n",
    "        print(\"Game after Expert System played: \", nim._rows)\n",
    "        win = 2\n",
    "    else:\n",
    "        player2.play(nim, parameters)\n",
    "        print(\"Game after Genetic Algorithm system played: \", nim._rows)\n",
    "        win = 1\n",
    "if win == 1:\n",
    "    player2.printSolution()\n",
    "else:\n",
    "    player1.printSolution()"
   ]
  },
  {
   "cell_type": "markdown",
   "metadata": {},
   "source": [
    "### MinMax vs Random"
   ]
  },
  {
   "cell_type": "code",
   "execution_count": 3,
   "metadata": {},
   "outputs": [
    {
     "name": "stdout",
     "output_type": "stream",
     "text": [
      "Start game:  [1, 3, 5, 7, 9, 11, 13]\n",
      "Game after Random player played:  [1, 3, 5, 7, 3, 11, 13]\n",
      "Game after MinMax system played:  [0, 3, 5, 7, 3, 11, 13]\n",
      "Game after Random player played:  [0, 2, 5, 7, 3, 11, 13]\n",
      "Game after MinMax system played:  [0, 1, 5, 7, 3, 11, 13]\n",
      "Game after Random player played:  [0, 1, 5, 7, 3, 11, 4]\n",
      "Game after MinMax system played:  [0, 0, 5, 7, 3, 11, 4]\n",
      "Game after Random player played:  [0, 0, 5, 7, 3, 2, 4]\n",
      "Game after MinMax system played:  [0, 0, 4, 7, 3, 2, 4]\n",
      "Game after Random player played:  [0, 0, 4, 7, 3, 2, 0]\n",
      "Game after MinMax system played:  [0, 0, 3, 7, 3, 2, 0]\n",
      "Game after Random player played:  [0, 0, 3, 7, 3, 1, 0]\n",
      "Game after MinMax system played:  [0, 0, 2, 7, 3, 1, 0]\n",
      "Game after Random player played:  [0, 0, 0, 7, 3, 1, 0]\n",
      "Game after MinMax system played:  [0, 0, 0, 6, 3, 1, 0]\n",
      "Game after Random player played:  [0, 0, 0, 5, 3, 1, 0]\n"
     ]
    },
    {
     "name": "stderr",
     "output_type": "stream",
     "text": [
      "INFO:root: MinMax system won, moves have been: ['1 items from row 0', '1 items from row 1', '1 items from row 1', '1 items from row 2', '1 items from row 2', '1 items from row 2', '1 items from row 3', '1 items from row 3', '1 items from row 3', '1 items from row 3', '2 items from row 3']; total: 11\n"
     ]
    },
    {
     "name": "stdout",
     "output_type": "stream",
     "text": [
      "Game after MinMax system played:  [0, 0, 0, 4, 3, 1, 0]\n",
      "Game after Random player played:  [0, 0, 0, 4, 3, 0, 0]\n",
      "Game after MinMax system played:  [0, 0, 0, 3, 3, 0, 0]\n",
      "Game after Random player played:  [0, 0, 0, 3, 2, 0, 0]\n",
      "Game after MinMax system played:  [0, 0, 0, 2, 2, 0, 0]\n",
      "Game after Random player played:  [0, 0, 0, 2, 0, 0, 0]\n",
      "Game after MinMax system played:  [0, 0, 0, 0, 0, 0, 0]\n"
     ]
    }
   ],
   "source": [
    "nim = Nim(7)\n",
    "player1 = RandomPlayer()\n",
    "player2 = MinMaxSystem()\n",
    "win = random.choice([1, 2])\n",
    "print(\"Start game: \", nim._rows)\n",
    "while nim.goal() == False:\n",
    "    if win == 1:\n",
    "        player1.play(nim)\n",
    "        print(\"Game after Random player played: \", nim._rows)\n",
    "        win = 2\n",
    "    else:\n",
    "        player2.play(nim)\n",
    "        print(\"Game after MinMax system played: \", nim._rows)\n",
    "        win = 1\n",
    "if win == 1:\n",
    "    player2.printSolution()\n",
    "else:\n",
    "    player1.printSolution()"
   ]
  },
  {
   "cell_type": "markdown",
   "metadata": {},
   "source": [
    "### MinMax vs Expert"
   ]
  },
  {
   "cell_type": "code",
   "execution_count": 4,
   "metadata": {},
   "outputs": [
    {
     "name": "stdout",
     "output_type": "stream",
     "text": [
      "Start game:  [1, 3, 5, 7, 9, 11, 13]\n",
      "Game after MinMax system played:  [0, 3, 5, 7, 9, 11, 13]\n",
      "Game after Expert System played:  [0, 3, 5, 7, 7, 11, 13]\n",
      "Game after MinMax system played:  [0, 2, 5, 7, 7, 11, 13]\n",
      "Game after Expert System played:  [0, 2, 4, 7, 7, 11, 13]\n",
      "Game after MinMax system played:  [0, 1, 4, 7, 7, 11, 13]\n",
      "Game after Expert System played:  [0, 1, 4, 4, 7, 11, 13]\n",
      "Game after MinMax system played:  [0, 0, 4, 4, 7, 11, 13]\n",
      "Game after Expert System played:  [0, 0, 4, 4, 6, 11, 13]\n",
      "Game after MinMax system played:  [0, 0, 3, 4, 6, 11, 13]\n",
      "Game after Expert System played:  [0, 0, 3, 3, 6, 11, 13]\n",
      "Game after MinMax system played:  [0, 0, 2, 3, 6, 11, 13]\n",
      "Game after Expert System played:  [0, 0, 2, 2, 6, 11, 13]\n",
      "Game after MinMax system played:  [0, 0, 1, 2, 6, 11, 13]\n",
      "Game after Expert System played:  [0, 0, 1, 1, 6, 11, 13]\n",
      "Game after MinMax system played:  [0, 0, 0, 1, 6, 11, 13]\n",
      "Game after Expert System played:  [0, 0, 0, 0, 6, 11, 13]\n",
      "Game after MinMax system played:  [0, 0, 0, 0, 5, 11, 13]\n",
      "Game after Expert System played:  [0, 0, 0, 0, 5, 8, 13]\n",
      "Game after MinMax system played:  [0, 0, 0, 0, 4, 8, 13]\n",
      "Game after Expert System played:  [0, 0, 0, 0, 4, 8, 12]\n",
      "Game after MinMax system played:  [0, 0, 0, 0, 3, 8, 12]\n",
      "Game after Expert System played:  [0, 0, 0, 0, 3, 8, 11]\n",
      "Game after MinMax system played:  [0, 0, 0, 0, 2, 8, 11]\n",
      "Game after Expert System played:  [0, 0, 0, 0, 2, 8, 10]\n",
      "Game after MinMax system played:  [0, 0, 0, 0, 1, 8, 10]\n",
      "Game after Expert System played:  [0, 0, 0, 0, 1, 8, 9]\n"
     ]
    },
    {
     "name": "stderr",
     "output_type": "stream",
     "text": [
      "INFO:root: Expert system won, moves have been: ['2 items from row 4', '1 items from row 2', '3 items from row 3', '1 items from row 4', '1 items from row 3', '1 items from row 3', '1 items from row 3', '1 items from row 3', '3 items from row 5', '1 items from row 6', '1 items from row 6', '1 items from row 6', '1 items from row 6', '1 items from row 6', '1 items from row 6', '1 items from row 6', '1 items from row 6', '1 items from row 6', '1 items from row 6', '1 items from row 6', '1 items from row 6', '1 items from row 6']; total: 22\n"
     ]
    },
    {
     "name": "stdout",
     "output_type": "stream",
     "text": [
      "Game after MinMax system played:  [0, 0, 0, 0, 0, 8, 9]\n",
      "Game after Expert System played:  [0, 0, 0, 0, 0, 8, 8]\n",
      "Game after MinMax system played:  [0, 0, 0, 0, 0, 7, 8]\n",
      "Game after Expert System played:  [0, 0, 0, 0, 0, 7, 7]\n",
      "Game after MinMax system played:  [0, 0, 0, 0, 0, 6, 7]\n",
      "Game after Expert System played:  [0, 0, 0, 0, 0, 6, 6]\n",
      "Game after MinMax system played:  [0, 0, 0, 0, 0, 5, 6]\n",
      "Game after Expert System played:  [0, 0, 0, 0, 0, 5, 5]\n",
      "Game after MinMax system played:  [0, 0, 0, 0, 0, 4, 5]\n",
      "Game after Expert System played:  [0, 0, 0, 0, 0, 4, 4]\n",
      "Game after MinMax system played:  [0, 0, 0, 0, 0, 3, 4]\n",
      "Game after Expert System played:  [0, 0, 0, 0, 0, 3, 3]\n",
      "Game after MinMax system played:  [0, 0, 0, 0, 0, 2, 3]\n",
      "Game after Expert System played:  [0, 0, 0, 0, 0, 2, 2]\n",
      "Game after MinMax system played:  [0, 0, 0, 0, 0, 1, 2]\n",
      "Game after Expert System played:  [0, 0, 0, 0, 0, 1, 1]\n",
      "Game after MinMax system played:  [0, 0, 0, 0, 0, 0, 1]\n",
      "Game after Expert System played:  [0, 0, 0, 0, 0, 0, 0]\n"
     ]
    }
   ],
   "source": [
    "nim = Nim(7)\n",
    "player1 = ExpertSystem()\n",
    "player2 = MinMaxSystem()\n",
    "win = random.choice([1, 2])\n",
    "print(\"Start game: \", nim._rows)\n",
    "while nim.goal() == False:\n",
    "    if win == 1:\n",
    "        player1.play(nim)\n",
    "        print(\"Game after Expert System played: \", nim._rows)\n",
    "        win = 2\n",
    "    else:\n",
    "        player2.play(nim)\n",
    "        print(\"Game after MinMax system played: \", nim._rows)\n",
    "        win = 1\n",
    "if win == 1:\n",
    "    player2.printSolution()\n",
    "else:\n",
    "    player1.printSolution()"
   ]
  },
  {
   "cell_type": "markdown",
   "metadata": {},
   "source": [
    "### MinMax vs Genetic Algorithm"
   ]
  },
  {
   "cell_type": "code",
   "execution_count": 5,
   "metadata": {},
   "outputs": [
    {
     "name": "stdout",
     "output_type": "stream",
     "text": [
      "Start game:  [1, 3, 5, 7, 9, 11, 13]\n",
      "Game after Genetic Algorithm system played:  [0, 3, 5, 7, 9, 11, 13]\n",
      "Game after MinMax system played:  [0, 2, 5, 7, 9, 11, 13]\n",
      "Game after Genetic Algorithm system played:  [0, 2, 5, 7, 9, 11, 8]\n",
      "Game after MinMax system played:  [0, 1, 5, 7, 9, 11, 8]\n",
      "Game after Genetic Algorithm system played:  [0, 1, 5, 7, 9, 6, 8]\n",
      "Game after MinMax system played:  [0, 0, 5, 7, 9, 6, 8]\n",
      "Game after Genetic Algorithm system played:  [0, 0, 4, 7, 9, 6, 8]\n",
      "Game after MinMax system played:  [0, 0, 3, 7, 9, 6, 8]\n",
      "Game after Genetic Algorithm system played:  [0, 0, 3, 7, 4, 6, 8]\n",
      "Game after MinMax system played:  [0, 0, 2, 7, 4, 6, 8]\n",
      "Game after Genetic Algorithm system played:  [0, 0, 1, 7, 4, 6, 8]\n",
      "Game after MinMax system played:  [0, 0, 0, 7, 4, 6, 8]\n",
      "Game after Genetic Algorithm system played:  [0, 0, 0, 7, 4, 6, 3]\n",
      "Game after MinMax system played:  [0, 0, 0, 6, 4, 6, 3]\n",
      "Game after Genetic Algorithm system played:  [0, 0, 0, 5, 4, 6, 3]\n",
      "Game after MinMax system played:  [0, 0, 0, 4, 4, 6, 3]\n",
      "Game after Genetic Algorithm system played:  [0, 0, 0, 4, 4, 1, 3]\n",
      "Game after MinMax system played:  [0, 0, 0, 3, 4, 1, 3]\n",
      "Game after Genetic Algorithm system played:  [0, 0, 0, 3, 0, 1, 3]\n",
      "Game after MinMax system played:  [0, 0, 0, 2, 0, 1, 3]\n",
      "Game after Genetic Algorithm system played:  [0, 0, 0, 2, 0, 0, 3]\n",
      "Game after MinMax system played:  [0, 0, 0, 1, 0, 0, 3]\n",
      "Game after Genetic Algorithm system played:  [0, 0, 0, 1, 0, 0, 0]\n",
      "Game after MinMax system played:  [0, 0, 0, 0, 0, 0, 0]\n"
     ]
    },
    {
     "name": "stderr",
     "output_type": "stream",
     "text": [
      "INFO:root: MinMax system won, moves have been: ['1 items from row 1', '1 items from row 1', '1 items from row 1', '1 items from row 2', '1 items from row 2', '1 items from row 2', '1 items from row 3', '1 items from row 3', '1 items from row 3', '1 items from row 3', '1 items from row 3', '1 items from row 3']; total: 12\n"
     ]
    }
   ],
   "source": [
    "nim = Nim(7)\n",
    "player1 = GeneticAlgorithmSystem()\n",
    "player2 = MinMaxSystem()\n",
    "player3 = RandomPlayer()\n",
    "parameters = player1.evolution(nim, player3)\n",
    "win = random.choice([1, 2])\n",
    "print(\"Start game: \", nim._rows)\n",
    "while nim.goal() == False:\n",
    "    if win == 1:\n",
    "        player1.play(nim, parameters)\n",
    "        print(\"Game after Genetic Algorithm system played: \", nim._rows)\n",
    "        win = 2\n",
    "    else:\n",
    "        player2.play(nim)\n",
    "        print(\"Game after MinMax system played: \", nim._rows)\n",
    "        win = 1\n",
    "if win == 1:\n",
    "    player2.printSolution()\n",
    "else:\n",
    "    player1.printSolution()"
   ]
  },
  {
   "cell_type": "markdown",
   "metadata": {},
   "source": [
    "### RL vs Random"
   ]
  },
  {
   "cell_type": "code",
   "execution_count": 2,
   "metadata": {},
   "outputs": [
    {
     "name": "stdout",
     "output_type": "stream",
     "text": [
      "0: 0\n",
      "0\n",
      "50: 23\n",
      "23\n",
      "100: 47\n",
      "24\n",
      "150: 67\n",
      "20\n",
      "200: 87\n",
      "20\n",
      "250: 110\n",
      "23\n",
      "300: 134\n",
      "24\n",
      "350: 162\n",
      "28\n",
      "400: 185\n",
      "23\n",
      "450: 218\n",
      "33\n",
      "500: 241\n",
      "23\n",
      "550: 269\n",
      "28\n",
      "600: 289\n",
      "20\n",
      "650: 317\n",
      "28\n",
      "700: 340\n",
      "23\n",
      "750: 366\n",
      "26\n",
      "800: 391\n",
      "25\n",
      "850: 423\n",
      "32\n",
      "900: 447\n",
      "24\n",
      "950: 470\n",
      "23\n",
      "1000: 496\n",
      "26\n",
      "1050: 524\n",
      "28\n",
      "1100: 551\n",
      "27\n",
      "1150: 579\n",
      "28\n",
      "1200: 608\n",
      "29\n",
      "1250: 636\n",
      "28\n",
      "1300: 668\n",
      "32\n",
      "1350: 697\n",
      "29\n",
      "1400: 723\n",
      "26\n",
      "1450: 756\n",
      "33\n",
      "1500: 785\n",
      "29\n",
      "1550: 820\n",
      "35\n",
      "1600: 852\n",
      "32\n",
      "1650: 886\n",
      "34\n",
      "1700: 924\n",
      "38\n",
      "1750: 954\n",
      "30\n",
      "1800: 989\n",
      "35\n",
      "1850: 1022\n",
      "33\n",
      "1900: 1057\n",
      "35\n",
      "1950: 1091\n",
      "34\n",
      "2000: 1122\n",
      "31\n",
      "2050: 1156\n",
      "34\n",
      "2100: 1191\n",
      "35\n",
      "2150: 1215\n",
      "24\n",
      "2200: 1242\n",
      "27\n",
      "2250: 1272\n",
      "30\n",
      "2300: 1312\n",
      "40\n",
      "2350: 1346\n",
      "34\n",
      "2400: 1385\n",
      "39\n",
      "2450: 1420\n",
      "35\n",
      "2500: 1447\n",
      "27\n",
      "2550: 1483\n",
      "36\n",
      "2600: 1515\n",
      "32\n",
      "2650: 1551\n",
      "36\n",
      "2700: 1587\n",
      "36\n",
      "2750: 1625\n",
      "38\n",
      "2800: 1661\n",
      "36\n",
      "2850: 1699\n",
      "38\n",
      "2900: 1735\n",
      "36\n",
      "2950: 1771\n",
      "36\n",
      "3000: 1804\n",
      "33\n",
      "3050: 1840\n",
      "36\n",
      "3100: 1877\n",
      "37\n",
      "3150: 1915\n",
      "38\n",
      "3200: 1956\n",
      "41\n",
      "3250: 1992\n",
      "36\n",
      "3300: 2031\n",
      "39\n",
      "3350: 2066\n",
      "35\n",
      "3400: 2102\n",
      "36\n",
      "3450: 2135\n",
      "33\n",
      "3500: 2174\n",
      "39\n",
      "3550: 2212\n",
      "38\n",
      "3600: 2248\n",
      "36\n",
      "3650: 2287\n",
      "39\n",
      "3700: 2319\n",
      "32\n",
      "3750: 2355\n",
      "36\n",
      "3800: 2391\n",
      "36\n",
      "3850: 2426\n",
      "35\n",
      "3900: 2469\n",
      "43\n",
      "3950: 2505\n",
      "36\n",
      "4000: 2539\n",
      "34\n",
      "4050: 2574\n",
      "35\n",
      "4100: 2610\n",
      "36\n",
      "4150: 2645\n",
      "35\n",
      "4200: 2687\n",
      "42\n",
      "4250: 2722\n",
      "35\n",
      "4300: 2761\n",
      "39\n",
      "4350: 2800\n",
      "39\n",
      "4400: 2841\n",
      "41\n",
      "4450: 2873\n",
      "32\n",
      "4500: 2908\n",
      "35\n",
      "4550: 2949\n",
      "41\n",
      "4600: 2982\n",
      "33\n",
      "4650: 3020\n",
      "38\n",
      "4700: 3055\n",
      "35\n",
      "4750: 3094\n",
      "39\n",
      "4800: 3129\n",
      "35\n",
      "4850: 3163\n",
      "34\n",
      "4900: 3204\n",
      "41\n",
      "4950: 3242\n",
      "38\n"
     ]
    },
    {
     "name": "stderr",
     "output_type": "stream",
     "text": [
      "INFO:root: RL system total wins: 3273\n"
     ]
    },
    {
     "data": {
      "image/png": "[encoded data removed]",
      "text/plain": [
       "<Figure size 432x288 with 1 Axes>"
      ]
     },
     "metadata": {
      "needs_background": "light"
     },
     "output_type": "display_data"
    }
   ],
   "source": [
    "game = Nim(7)\n",
    "player1 = RLSystem(game)\n",
    "player2 = RandomPlayer()\n",
    "player1.play(player2)"
   ]
  },
  {
   "cell_type": "markdown",
   "metadata": {},
   "source": [
    "### RL vs Expert"
   ]
  },
  {
   "cell_type": "code",
   "execution_count": 2,
   "metadata": {},
   "outputs": [
    {
     "name": "stdout",
     "output_type": "stream",
     "text": [
      "0: 0\n",
      "50: 0\n",
      "100: 0\n",
      "150: 0\n",
      "200: 0\n",
      "250: 0\n",
      "300: 0\n",
      "350: 0\n",
      "400: 0\n",
      "450: 0\n",
      "500: 0\n",
      "550: 0\n",
      "600: 0\n",
      "650: 0\n",
      "700: 0\n",
      "750: 0\n",
      "800: 0\n",
      "850: 0\n",
      "900: 0\n",
      "950: 0\n",
      "1000: 0\n",
      "1050: 0\n",
      "1100: 0\n",
      "1150: 0\n",
      "1200: 0\n",
      "1250: 0\n",
      "1300: 0\n",
      "1350: 0\n",
      "1400: 0\n",
      "1450: 0\n",
      "1500: 0\n",
      "1550: 0\n",
      "1600: 0\n",
      "1650: 0\n",
      "1700: 0\n",
      "1750: 0\n",
      "1800: 0\n",
      "1850: 0\n",
      "1900: 0\n",
      "1950: 0\n",
      "2000: 0\n",
      "2050: 0\n",
      "2100: 0\n",
      "2150: 0\n",
      "2200: 0\n",
      "2250: 0\n",
      "2300: 0\n",
      "2350: 0\n",
      "2400: 0\n",
      "2450: 0\n",
      "2500: 0\n",
      "2550: 0\n",
      "2600: 0\n",
      "2650: 0\n",
      "2700: 0\n",
      "2750: 0\n",
      "2800: 0\n",
      "2850: 0\n",
      "2900: 0\n",
      "2950: 0\n",
      "3000: 0\n",
      "3050: 0\n",
      "3100: 0\n",
      "3150: 0\n",
      "3200: 0\n",
      "3250: 0\n",
      "3300: 0\n",
      "3350: 0\n",
      "3400: 0\n",
      "3450: 0\n",
      "3500: 0\n",
      "3550: 0\n",
      "3600: 0\n",
      "3650: 0\n",
      "3700: 0\n",
      "3750: 0\n",
      "3800: 0\n",
      "3850: 0\n",
      "3900: 0\n",
      "3950: 0\n",
      "4000: 0\n",
      "4050: 0\n",
      "4100: 0\n",
      "4150: 0\n",
      "4200: 0\n",
      "4250: 0\n",
      "4300: 0\n",
      "4350: 0\n",
      "4400: 0\n",
      "4450: 0\n",
      "4500: 0\n",
      "4550: 0\n",
      "4600: 0\n",
      "4650: 0\n",
      "4700: 0\n",
      "4750: 0\n",
      "4800: 0\n",
      "4850: 0\n",
      "4900: 0\n",
      "4950: 0\n"
     ]
    },
    {
     "name": "stderr",
     "output_type": "stream",
     "text": [
      "INFO:root: RL system total wins: 0\n",
      "c:\\Users\\diego\\anaconda3\\lib\\site-packages\\matplotlib_inline\\backend_inline.py:234: UserWarning: Data has no positive values, and therefore cannot be log-scaled.\n",
      "  for label in axis.get_ticklabels()])\n"
     ]
    },
    {
     "data": {
      "image/png": "[encoded data removed]",
      "text/plain": [
       "<Figure size 432x288 with 1 Axes>"
      ]
     },
     "metadata": {
      "needs_background": "light"
     },
     "output_type": "display_data"
    }
   ],
   "source": [
    "game = Nim(7)\n",
    "player1 = RLSystem(game)\n",
    "player2 = ExpertSystem()\n",
    "player1.play(player2)"
   ]
  },
  {
   "cell_type": "markdown",
   "metadata": {},
   "source": [
    "### RL vs Genetic Algorithm"
   ]
  },
  {
   "cell_type": "code",
   "execution_count": 3,
   "metadata": {},
   "outputs": [
    {
     "name": "stdout",
     "output_type": "stream",
     "text": [
      "0: 0\n",
      "50: 24\n",
      "100: 52\n",
      "150: 72\n",
      "200: 95\n",
      "250: 120\n",
      "300: 149\n",
      "350: 177\n",
      "400: 203\n",
      "450: 226\n",
      "500: 246\n",
      "550: 275\n",
      "600: 302\n",
      "650: 331\n",
      "700: 355\n",
      "750: 381\n",
      "800: 400\n",
      "850: 431\n",
      "900: 457\n",
      "950: 476\n",
      "1000: 510\n",
      "1050: 536\n",
      "1100: 564\n",
      "1150: 591\n",
      "1200: 626\n",
      "1250: 657\n",
      "1300: 689\n",
      "1350: 721\n",
      "1400: 750\n",
      "1450: 773\n",
      "1500: 799\n",
      "1550: 835\n",
      "1600: 861\n",
      "1650: 896\n",
      "1700: 922\n",
      "1750: 952\n",
      "1800: 987\n",
      "1850: 1020\n",
      "1900: 1047\n",
      "1950: 1077\n",
      "2000: 1109\n",
      "2050: 1144\n",
      "2100: 1170\n",
      "2150: 1198\n",
      "2200: 1225\n",
      "2250: 1259\n",
      "2300: 1294\n",
      "2350: 1331\n",
      "2400: 1358\n",
      "2450: 1396\n",
      "2500: 1429\n",
      "2550: 1460\n",
      "2600: 1492\n",
      "2650: 1523\n",
      "2700: 1557\n",
      "2750: 1588\n",
      "2800: 1619\n",
      "2850: 1654\n",
      "2900: 1685\n",
      "2950: 1715\n",
      "3000: 1750\n",
      "3050: 1782\n",
      "3100: 1812\n",
      "3150: 1843\n",
      "3200: 1883\n",
      "3250: 1912\n",
      "3300: 1939\n",
      "3350: 1967\n",
      "3400: 1999\n",
      "3450: 2033\n",
      "3500: 2066\n",
      "3550: 2092\n",
      "3600: 2123\n",
      "3650: 2152\n",
      "3700: 2190\n",
      "3750: 2221\n",
      "3800: 2249\n",
      "3850: 2280\n",
      "3900: 2312\n",
      "3950: 2346\n",
      "4000: 2374\n",
      "4050: 2399\n",
      "4100: 2432\n",
      "4150: 2462\n",
      "4200: 2491\n",
      "4250: 2528\n",
      "4300: 2560\n",
      "4350: 2593\n",
      "4400: 2630\n",
      "4450: 2661\n",
      "4500: 2695\n",
      "4550: 2735\n",
      "4600: 2767\n",
      "4650: 2795\n",
      "4700: 2829\n",
      "4750: 2861\n",
      "4800: 2891\n",
      "4850: 2921\n",
      "4900: 2955\n",
      "4950: 2979\n"
     ]
    },
    {
     "name": "stderr",
     "output_type": "stream",
     "text": [
      "INFO:root: RL system total wins: 3010\n"
     ]
    },
    {
     "data": {
      "image/png": "[encoded data removed]",
      "text/plain": [
       "<Figure size 432x288 with 1 Axes>"
      ]
     },
     "metadata": {
      "needs_background": "light"
     },
     "output_type": "display_data"
    }
   ],
   "source": [
    "game = Nim(7)\n",
    "player1 = RLSystem(game)\n",
    "player2 = GeneticAlgorithmSystem()\n",
    "player3 = RandomPlayer()\n",
    "parameters = player2.evolution(game, player3)\n",
    "player1.play(player2, parameters)"
   ]
  },
  {
   "cell_type": "markdown",
   "metadata": {},
   "source": [
    "### RL vs MinMax"
   ]
  },
  {
   "cell_type": "code",
   "execution_count": 7,
   "metadata": {},
   "outputs": [
    {
     "name": "stdout",
     "output_type": "stream",
     "text": [
      "0: 10\n"
     ]
    },
    {
     "ename": "KeyboardInterrupt",
     "evalue": "",
     "output_type": "error",
     "traceback": [
      "\u001b[1;31m---------------------------------------------------------------------------\u001b[0m",
      "\u001b[1;31mKeyboardInterrupt\u001b[0m                         Traceback (most recent call last)",
      "\u001b[1;32mc:\\Users\\diego\\Desktop\\Diego\\QuintoAnno\\ComputationalIntelligence\\Computational_Intelligence\\lab3\\lab3.ipynb Cell 23\u001b[0m in \u001b[0;36m<cell line: 4>\u001b[1;34m()\u001b[0m\n\u001b[0;32m      <a href='vscode-notebook-cell:/c%3A/Users/diego/Desktop/Diego/QuintoAnno/ComputationalIntelligence/Computational_Intelligence/lab3/lab3.ipynb#X31sZmlsZQ%3D%3D?line=1'>2</a>\u001b[0m player1 \u001b[39m=\u001b[39m RLSystem(game)\n\u001b[0;32m      <a href='vscode-notebook-cell:/c%3A/Users/diego/Desktop/Diego/QuintoAnno/ComputationalIntelligence/Computational_Intelligence/lab3/lab3.ipynb#X31sZmlsZQ%3D%3D?line=2'>3</a>\u001b[0m player2 \u001b[39m=\u001b[39m MinMaxSystem()\n\u001b[1;32m----> <a href='vscode-notebook-cell:/c%3A/Users/diego/Desktop/Diego/QuintoAnno/ComputationalIntelligence/Computational_Intelligence/lab3/lab3.ipynb#X31sZmlsZQ%3D%3D?line=3'>4</a>\u001b[0m player1\u001b[39m.\u001b[39;49mplay(player2)\n",
      "File \u001b[1;32mc:\\Users\\diego\\Desktop\\Diego\\QuintoAnno\\ComputationalIntelligence\\Computational_Intelligence\\lab3\\lib.py:290\u001b[0m, in \u001b[0;36mRLSystem.play\u001b[1;34m(self, player, parameters)\u001b[0m\n\u001b[0;32m    288\u001b[0m             player\u001b[39m.\u001b[39mplay(\u001b[39mself\u001b[39m\u001b[39m.\u001b[39m_nim, parameters)\n\u001b[0;32m    289\u001b[0m         \u001b[39melse\u001b[39;00m:\n\u001b[1;32m--> 290\u001b[0m             player\u001b[39m.\u001b[39;49mplay(\u001b[39mself\u001b[39;49m\u001b[39m.\u001b[39;49m_nim)\n\u001b[0;32m    291\u001b[0m         win \u001b[39m=\u001b[39m \u001b[39m1\u001b[39m\n\u001b[0;32m    292\u001b[0m \u001b[39mif\u001b[39;00m win \u001b[39m==\u001b[39m \u001b[39m2\u001b[39m: \n\u001b[0;32m    293\u001b[0m     \u001b[39m# Robot win\u001b[39;00m\n",
      "File \u001b[1;32mc:\\Users\\diego\\Desktop\\Diego\\QuintoAnno\\ComputationalIntelligence\\Computational_Intelligence\\lab3\\lib.py:234\u001b[0m, in \u001b[0;36mMinMaxSystem.play\u001b[1;34m(self, nim)\u001b[0m\n\u001b[0;32m    233\u001b[0m \u001b[39mdef\u001b[39;00m \u001b[39mplay\u001b[39m(\u001b[39mself\u001b[39m, nim: Nim) \u001b[39m-\u001b[39m\u001b[39m>\u001b[39m \u001b[39mNone\u001b[39;00m:\n\u001b[1;32m--> 234\u001b[0m     best_ply, _ \u001b[39m=\u001b[39m \u001b[39mself\u001b[39;49m\u001b[39m.\u001b[39;49mminmax(nim, player\u001b[39m=\u001b[39;49m\u001b[39mTrue\u001b[39;49;00m, step\u001b[39m=\u001b[39;49m\u001b[39m1\u001b[39;49m)\n\u001b[0;32m    235\u001b[0m     nim\u001b[39m.\u001b[39mnimming_remove(best_ply[\u001b[39m0\u001b[39m], best_ply[\u001b[39m1\u001b[39m])\n\u001b[0;32m    236\u001b[0m     \u001b[39mself\u001b[39m\u001b[39m.\u001b[39m_nMoves \u001b[39m+\u001b[39m\u001b[39m=\u001b[39m \u001b[39m1\u001b[39m\n",
      "File \u001b[1;32mc:\\Users\\diego\\Desktop\\Diego\\QuintoAnno\\ComputationalIntelligence\\Computational_Intelligence\\lab3\\lib.py:227\u001b[0m, in \u001b[0;36mMinMaxSystem.minmax\u001b[1;34m(self, nim, player, step)\u001b[0m\n\u001b[0;32m    225\u001b[0m nim\u001b[39m.\u001b[39mnimming_remove(ply[\u001b[39m0\u001b[39m], ply[\u001b[39m1\u001b[39m])\n\u001b[0;32m    226\u001b[0m \u001b[39m# Recursive call\u001b[39;00m\n\u001b[1;32m--> 227\u001b[0m _, val \u001b[39m=\u001b[39m \u001b[39mself\u001b[39;49m\u001b[39m.\u001b[39;49mminmax(nim, \u001b[39mnot\u001b[39;49;00m player, step\u001b[39m+\u001b[39;49m\u001b[39m1\u001b[39;49m)\n\u001b[0;32m    228\u001b[0m \u001b[39m# Restore the previous situation\u001b[39;00m\n\u001b[0;32m    229\u001b[0m nim\u001b[39m.\u001b[39mnimming_add(ply[\u001b[39m0\u001b[39m], ply[\u001b[39m1\u001b[39m])\n",
      "File \u001b[1;32mc:\\Users\\diego\\Desktop\\Diego\\QuintoAnno\\ComputationalIntelligence\\Computational_Intelligence\\lab3\\lib.py:227\u001b[0m, in \u001b[0;36mMinMaxSystem.minmax\u001b[1;34m(self, nim, player, step)\u001b[0m\n\u001b[0;32m    225\u001b[0m nim\u001b[39m.\u001b[39mnimming_remove(ply[\u001b[39m0\u001b[39m], ply[\u001b[39m1\u001b[39m])\n\u001b[0;32m    226\u001b[0m \u001b[39m# Recursive call\u001b[39;00m\n\u001b[1;32m--> 227\u001b[0m _, val \u001b[39m=\u001b[39m \u001b[39mself\u001b[39;49m\u001b[39m.\u001b[39;49mminmax(nim, \u001b[39mnot\u001b[39;49;00m player, step\u001b[39m+\u001b[39;49m\u001b[39m1\u001b[39;49m)\n\u001b[0;32m    228\u001b[0m \u001b[39m# Restore the previous situation\u001b[39;00m\n\u001b[0;32m    229\u001b[0m nim\u001b[39m.\u001b[39mnimming_add(ply[\u001b[39m0\u001b[39m], ply[\u001b[39m1\u001b[39m])\n",
      "File \u001b[1;32mc:\\Users\\diego\\Desktop\\Diego\\QuintoAnno\\ComputationalIntelligence\\Computational_Intelligence\\lab3\\lib.py:227\u001b[0m, in \u001b[0;36mMinMaxSystem.minmax\u001b[1;34m(self, nim, player, step)\u001b[0m\n\u001b[0;32m    225\u001b[0m nim\u001b[39m.\u001b[39mnimming_remove(ply[\u001b[39m0\u001b[39m], ply[\u001b[39m1\u001b[39m])\n\u001b[0;32m    226\u001b[0m \u001b[39m# Recursive call\u001b[39;00m\n\u001b[1;32m--> 227\u001b[0m _, val \u001b[39m=\u001b[39m \u001b[39mself\u001b[39;49m\u001b[39m.\u001b[39;49mminmax(nim, \u001b[39mnot\u001b[39;49;00m player, step\u001b[39m+\u001b[39;49m\u001b[39m1\u001b[39;49m)\n\u001b[0;32m    228\u001b[0m \u001b[39m# Restore the previous situation\u001b[39;00m\n\u001b[0;32m    229\u001b[0m nim\u001b[39m.\u001b[39mnimming_add(ply[\u001b[39m0\u001b[39m], ply[\u001b[39m1\u001b[39m])\n",
      "File \u001b[1;32mc:\\Users\\diego\\Desktop\\Diego\\QuintoAnno\\ComputationalIntelligence\\Computational_Intelligence\\lab3\\lib.py:192\u001b[0m, in \u001b[0;36mMinMaxSystem.minmax\u001b[1;34m(self, nim, player, step)\u001b[0m\n\u001b[0;32m    191\u001b[0m \u001b[39mdef\u001b[39;00m \u001b[39mminmax\u001b[39m(\u001b[39mself\u001b[39m, nim: Nim, player: \u001b[39mbool\u001b[39m, step: \u001b[39mint\u001b[39m) \u001b[39m-\u001b[39m\u001b[39m>\u001b[39m \u001b[39mtuple\u001b[39m:\n\u001b[1;32m--> 192\u001b[0m     possible \u001b[39m=\u001b[39m [(r, o) \u001b[39mfor\u001b[39;00m r, c \u001b[39min\u001b[39;00m \u001b[39menumerate\u001b[39m(nim\u001b[39m.\u001b[39;49m_rows) \u001b[39mfor\u001b[39;00m o \u001b[39min\u001b[39;00m \u001b[39mrange\u001b[39m(\u001b[39m1\u001b[39m, c \u001b[39m+\u001b[39m \u001b[39m1\u001b[39m)]\n\u001b[0;32m    193\u001b[0m     alive_rows \u001b[39m=\u001b[39m []\n\u001b[0;32m    194\u001b[0m     \u001b[39mif\u001b[39;00m player:\n",
      "\u001b[1;31mKeyboardInterrupt\u001b[0m: "
     ]
    }
   ],
   "source": [
    "game = Nim(7)\n",
    "player1 = RLSystem(game)\n",
    "player2 = MinMaxSystem()\n",
    "player1.play(player2)"
   ]
  }
 ],
 "metadata": {
  "kernelspec": {
   "display_name": "base",
   "language": "python",
   "name": "python3"
  },
  "language_info": {
   "codemirror_mode": {
    "name": "ipython",
    "version": 3
   },
   "file_extension": ".py",
   "mimetype": "text/x-python",
   "name": "python",
   "nbconvert_exporter": "python",
   "pygments_lexer": "ipython3",
   "version": "3.9.12 (main, Apr  4 2022, 05:22:27) [MSC v.1916 64 bit (AMD64)]"
  },
  "orig_nbformat": 4,
  "vscode": {
   "interpreter": {
    "hash": "465bc43bf4cbae58c142e3527ff2b05702dd810bc8ebc4f627e0af6c067b87a4"
   }
  }
 },
 "nbformat": 4,
 "nbformat_minor": 2
}
