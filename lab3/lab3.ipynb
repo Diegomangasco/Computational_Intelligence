{
 "cells": [
  {
   "cell_type": "markdown",
   "metadata": {},
   "source": [
    "## Imports"
   ]
  },
  {
   "cell_type": "code",
   "execution_count": 1,
   "metadata": {},
   "outputs": [],
   "source": [
    "import random\n",
    "from lib import Nim\n",
    "from lib import RandomPlayer\n",
    "from lib import ExpertSystem\n",
    "from lib import GeneticAlgorithmSystem\n",
    "from lib import MinMaxSystem\n",
    "from lib import RLSystem"
   ]
  },
  {
   "cell_type": "markdown",
   "metadata": {},
   "source": [
    "## Games"
   ]
  },
  {
   "cell_type": "markdown",
   "metadata": {},
   "source": [
    "### Expert vs Random"
   ]
  },
  {
   "cell_type": "code",
   "execution_count": 2,
   "metadata": {},
   "outputs": [
    {
     "name": "stderr",
     "output_type": "stream",
     "text": [
      "INFO:root: Expert system won, moves have been: ['9 items from row 4', '2 items from row 1', '1 items from row 1', '11 items from row 6', '4 items from row 3', '3 items from row 2', '1 items from row 6']; total: 7\n"
     ]
    },
    {
     "name": "stdout",
     "output_type": "stream",
     "text": [
      "Start game:  [1, 3, 5, 7, 9, 11, 13]\n",
      "Game after Random player played:  [1, 3, 3, 7, 9, 11, 13]\n",
      "Game after Expert system played:  [1, 3, 3, 7, 0, 11, 13]\n",
      "Game after Random player played:  [1, 3, 3, 5, 0, 11, 13]\n",
      "Game after Expert system played:  [1, 1, 3, 5, 0, 11, 13]\n",
      "Game after Random player played:  [0, 1, 3, 5, 0, 11, 13]\n",
      "Game after Expert system played:  [0, 0, 3, 5, 0, 11, 13]\n",
      "Game after Random player played:  [0, 0, 3, 5, 0, 4, 13]\n",
      "Game after Expert system played:  [0, 0, 3, 5, 0, 4, 2]\n",
      "Game after Random player played:  [0, 0, 3, 5, 0, 0, 2]\n",
      "Game after Expert system played:  [0, 0, 3, 1, 0, 0, 2]\n",
      "Game after Random player played:  [0, 0, 3, 1, 0, 0, 1]\n",
      "Game after Expert system played:  [0, 0, 0, 1, 0, 0, 1]\n",
      "Game after Random player played:  [0, 0, 0, 0, 0, 0, 1]\n",
      "Game after Expert system played:  [0, 0, 0, 0, 0, 0, 0]\n"
     ]
    }
   ],
   "source": [
    "nim = Nim(7)\n",
    "player1 = RandomPlayer()\n",
    "player2 = ExpertSystem()\n",
    "win = random.choice([1, 2])\n",
    "print(\"Start game: \", nim._rows)\n",
    "while nim.goal() == False:\n",
    "    if win == 1:\n",
    "        player1.play(nim)\n",
    "        print(\"Game after Random player played: \", nim._rows)\n",
    "        win = 2\n",
    "    else:\n",
    "        player2.play(nim)\n",
    "        print(\"Game after Expert system played: \", nim._rows)\n",
    "        win = 1\n",
    "if win == 1:\n",
    "    player2.printSolution()\n",
    "else:\n",
    "    player1.printSolution()"
   ]
  },
  {
   "cell_type": "markdown",
   "metadata": {},
   "source": [
    "### Genetic Algorithm vs Random"
   ]
  },
  {
   "cell_type": "code",
   "execution_count": 2,
   "metadata": {},
   "outputs": [
    {
     "name": "stderr",
     "output_type": "stream",
     "text": [
      "INFO:root: Genetic Algorithm system won, moves have been: ['1 items from row 0', '2 items from row 6', '1 items from row 1', '4 items from row 3', '9 items from row 4', '2 items from row 6', '2 items from row 1', '1 items from row 2']; total: 8\n"
     ]
    },
    {
     "name": "stdout",
     "output_type": "stream",
     "text": [
      "Start game:  [1, 3, 5, 7, 9, 11, 13]\n",
      "Game after Genetic Algorithm system played:  [0, 3, 5, 7, 9, 11, 13]\n",
      "Game after Random player played:  [0, 3, 5, 4, 9, 11, 13]\n",
      "Game after Genetic Algorithm system played:  [0, 3, 5, 4, 9, 11, 11]\n",
      "Game after Random player played:  [0, 3, 5, 4, 9, 8, 11]\n",
      "Game after Genetic Algorithm system played:  [0, 2, 5, 4, 9, 8, 11]\n",
      "Game after Random player played:  [0, 2, 1, 4, 9, 8, 11]\n",
      "Game after Genetic Algorithm system played:  [0, 2, 1, 0, 9, 8, 11]\n",
      "Game after Random player played:  [0, 2, 1, 0, 9, 1, 11]\n",
      "Game after Genetic Algorithm system played:  [0, 2, 1, 0, 0, 1, 11]\n",
      "Game after Random player played:  [0, 2, 1, 0, 0, 1, 6]\n",
      "Game after Genetic Algorithm system played:  [0, 2, 1, 0, 0, 1, 4]\n",
      "Game after Random player played:  [0, 2, 1, 0, 0, 1, 0]\n",
      "Game after Genetic Algorithm system played:  [0, 0, 1, 0, 0, 1, 0]\n",
      "Game after Random player played:  [0, 0, 1, 0, 0, 0, 0]\n",
      "Game after Genetic Algorithm system played:  [0, 0, 0, 0, 0, 0, 0]\n"
     ]
    }
   ],
   "source": [
    "nim = Nim(7)\n",
    "player1 = RandomPlayer()\n",
    "player2 = GeneticAlgorithmSystem()\n",
    "parameters = player2.evolution(nim, player1)\n",
    "win = random.choice([1, 2])\n",
    "print(\"Start game: \", nim._rows)\n",
    "while nim.goal() == False:\n",
    "    if win == 1:\n",
    "        player1.play(nim)\n",
    "        print(\"Game after Random player played: \", nim._rows)\n",
    "        win = 2\n",
    "    else:\n",
    "        player2.play(nim, parameters)\n",
    "        print(\"Game after Genetic Algorithm system played: \", nim._rows)\n",
    "        win = 1\n",
    "if win == 1:\n",
    "    player2.printSolution()\n",
    "else:\n",
    "    player1.printSolution()"
   ]
  },
  {
   "cell_type": "markdown",
   "metadata": {},
   "source": [
    "### Genetic Algorithm vs Expert"
   ]
  },
  {
   "cell_type": "code",
   "execution_count": 4,
   "metadata": {},
   "outputs": [
    {
     "name": "stderr",
     "output_type": "stream",
     "text": [
      "INFO:root: Expert system won, moves have been: ['3 items from row 4', '1 items from row 1', '3 items from row 3', '2 items from row 2', '7 items from row 6', '1 items from row 2', '1 items from row 6', '3 items from row 3', '1 items from row 3']; total: 9\n"
     ]
    },
    {
     "name": "stdout",
     "output_type": "stream",
     "text": [
      "Start game:  [1, 3, 5, 7, 9, 11, 13]\n",
      "Game after Expert System played:  [1, 3, 5, 7, 6, 11, 13]\n",
      "Game after Genetic Algorithm system played:  [0, 3, 5, 7, 6, 11, 13]\n",
      "Game after Expert System played:  [0, 2, 5, 7, 6, 11, 13]\n",
      "Game after Genetic Algorithm system played:  [0, 1, 5, 7, 6, 11, 13]\n",
      "Game after Expert System played:  [0, 1, 5, 4, 6, 11, 13]\n",
      "Game after Genetic Algorithm system played:  [0, 1, 5, 4, 0, 11, 13]\n",
      "Game after Expert System played:  [0, 1, 3, 4, 0, 11, 13]\n",
      "Game after Genetic Algorithm system played:  [0, 1, 3, 4, 0, 0, 13]\n",
      "Game after Expert System played:  [0, 1, 3, 4, 0, 0, 6]\n",
      "Game after Genetic Algorithm system played:  [0, 0, 3, 4, 0, 0, 6]\n",
      "Game after Expert System played:  [0, 0, 2, 4, 0, 0, 6]\n",
      "Game after Genetic Algorithm system played:  [0, 0, 1, 4, 0, 0, 6]\n",
      "Game after Expert System played:  [0, 0, 1, 4, 0, 0, 5]\n",
      "Game after Genetic Algorithm system played:  [0, 0, 1, 4, 0, 0, 0]\n",
      "Game after Expert System played:  [0, 0, 1, 1, 0, 0, 0]\n",
      "Game after Genetic Algorithm system played:  [0, 0, 0, 1, 0, 0, 0]\n",
      "Game after Expert System played:  [0, 0, 0, 0, 0, 0, 0]\n"
     ]
    }
   ],
   "source": [
    "nim = Nim(7)\n",
    "player1 = ExpertSystem()\n",
    "player2 = GeneticAlgorithmSystem()\n",
    "player3 = RandomPlayer()\n",
    "parameters = player2.evolution(nim, player3)\n",
    "win = random.choice([1, 2])\n",
    "print(\"Start game: \", nim._rows)\n",
    "while nim.goal() == False:\n",
    "    if win == 1:\n",
    "        player1.play(nim)\n",
    "        print(\"Game after Expert System played: \", nim._rows)\n",
    "        win = 2\n",
    "    else:\n",
    "        player2.play(nim, parameters)\n",
    "        print(\"Game after Genetic Algorithm system played: \", nim._rows)\n",
    "        win = 1\n",
    "if win == 1:\n",
    "    player2.printSolution()\n",
    "else:\n",
    "    player1.printSolution()"
   ]
  },
  {
   "cell_type": "markdown",
   "metadata": {},
   "source": [
    "### MinMax vs Random"
   ]
  },
  {
   "cell_type": "code",
   "execution_count": 3,
   "metadata": {},
   "outputs": [
    {
     "name": "stdout",
     "output_type": "stream",
     "text": [
      "Start game:  [1, 3, 5, 7, 9, 11, 13]\n",
      "Game after Random player played:  [1, 3, 5, 7, 3, 11, 13]\n",
      "Game after MinMax system played:  [0, 3, 5, 7, 3, 11, 13]\n",
      "Game after Random player played:  [0, 2, 5, 7, 3, 11, 13]\n",
      "Game after MinMax system played:  [0, 1, 5, 7, 3, 11, 13]\n",
      "Game after Random player played:  [0, 1, 5, 7, 3, 11, 4]\n",
      "Game after MinMax system played:  [0, 0, 5, 7, 3, 11, 4]\n",
      "Game after Random player played:  [0, 0, 5, 7, 3, 2, 4]\n",
      "Game after MinMax system played:  [0, 0, 4, 7, 3, 2, 4]\n",
      "Game after Random player played:  [0, 0, 4, 7, 3, 2, 0]\n",
      "Game after MinMax system played:  [0, 0, 3, 7, 3, 2, 0]\n",
      "Game after Random player played:  [0, 0, 3, 7, 3, 1, 0]\n",
      "Game after MinMax system played:  [0, 0, 2, 7, 3, 1, 0]\n",
      "Game after Random player played:  [0, 0, 0, 7, 3, 1, 0]\n",
      "Game after MinMax system played:  [0, 0, 0, 6, 3, 1, 0]\n",
      "Game after Random player played:  [0, 0, 0, 5, 3, 1, 0]\n"
     ]
    },
    {
     "name": "stderr",
     "output_type": "stream",
     "text": [
      "INFO:root: MinMax system won, moves have been: ['1 items from row 0', '1 items from row 1', '1 items from row 1', '1 items from row 2', '1 items from row 2', '1 items from row 2', '1 items from row 3', '1 items from row 3', '1 items from row 3', '1 items from row 3', '2 items from row 3']; total: 11\n"
     ]
    },
    {
     "name": "stdout",
     "output_type": "stream",
     "text": [
      "Game after MinMax system played:  [0, 0, 0, 4, 3, 1, 0]\n",
      "Game after Random player played:  [0, 0, 0, 4, 3, 0, 0]\n",
      "Game after MinMax system played:  [0, 0, 0, 3, 3, 0, 0]\n",
      "Game after Random player played:  [0, 0, 0, 3, 2, 0, 0]\n",
      "Game after MinMax system played:  [0, 0, 0, 2, 2, 0, 0]\n",
      "Game after Random player played:  [0, 0, 0, 2, 0, 0, 0]\n",
      "Game after MinMax system played:  [0, 0, 0, 0, 0, 0, 0]\n"
     ]
    }
   ],
   "source": [
    "nim = Nim(7)\n",
    "player1 = RandomPlayer()\n",
    "player2 = MinMaxSystem()\n",
    "win = random.choice([1, 2])\n",
    "print(\"Start game: \", nim._rows)\n",
    "while nim.goal() == False:\n",
    "    if win == 1:\n",
    "        player1.play(nim)\n",
    "        print(\"Game after Random player played: \", nim._rows)\n",
    "        win = 2\n",
    "    else:\n",
    "        player2.play(nim)\n",
    "        print(\"Game after MinMax system played: \", nim._rows)\n",
    "        win = 1\n",
    "if win == 1:\n",
    "    player2.printSolution()\n",
    "else:\n",
    "    player1.printSolution()"
   ]
  },
  {
   "cell_type": "markdown",
   "metadata": {},
   "source": [
    "### MinMax vs Expert"
   ]
  },
  {
   "cell_type": "code",
   "execution_count": 4,
   "metadata": {},
   "outputs": [
    {
     "name": "stdout",
     "output_type": "stream",
     "text": [
      "Start game:  [1, 3, 5, 7, 9, 11, 13]\n",
      "Game after MinMax system played:  [0, 3, 5, 7, 9, 11, 13]\n",
      "Game after Expert System played:  [0, 3, 5, 7, 7, 11, 13]\n",
      "Game after MinMax system played:  [0, 2, 5, 7, 7, 11, 13]\n",
      "Game after Expert System played:  [0, 2, 4, 7, 7, 11, 13]\n",
      "Game after MinMax system played:  [0, 1, 4, 7, 7, 11, 13]\n",
      "Game after Expert System played:  [0, 1, 4, 4, 7, 11, 13]\n",
      "Game after MinMax system played:  [0, 0, 4, 4, 7, 11, 13]\n",
      "Game after Expert System played:  [0, 0, 4, 4, 6, 11, 13]\n",
      "Game after MinMax system played:  [0, 0, 3, 4, 6, 11, 13]\n",
      "Game after Expert System played:  [0, 0, 3, 3, 6, 11, 13]\n",
      "Game after MinMax system played:  [0, 0, 2, 3, 6, 11, 13]\n",
      "Game after Expert System played:  [0, 0, 2, 2, 6, 11, 13]\n",
      "Game after MinMax system played:  [0, 0, 1, 2, 6, 11, 13]\n",
      "Game after Expert System played:  [0, 0, 1, 1, 6, 11, 13]\n",
      "Game after MinMax system played:  [0, 0, 0, 1, 6, 11, 13]\n",
      "Game after Expert System played:  [0, 0, 0, 0, 6, 11, 13]\n",
      "Game after MinMax system played:  [0, 0, 0, 0, 5, 11, 13]\n",
      "Game after Expert System played:  [0, 0, 0, 0, 5, 8, 13]\n",
      "Game after MinMax system played:  [0, 0, 0, 0, 4, 8, 13]\n",
      "Game after Expert System played:  [0, 0, 0, 0, 4, 8, 12]\n",
      "Game after MinMax system played:  [0, 0, 0, 0, 3, 8, 12]\n",
      "Game after Expert System played:  [0, 0, 0, 0, 3, 8, 11]\n",
      "Game after MinMax system played:  [0, 0, 0, 0, 2, 8, 11]\n",
      "Game after Expert System played:  [0, 0, 0, 0, 2, 8, 10]\n",
      "Game after MinMax system played:  [0, 0, 0, 0, 1, 8, 10]\n",
      "Game after Expert System played:  [0, 0, 0, 0, 1, 8, 9]\n"
     ]
    },
    {
     "name": "stderr",
     "output_type": "stream",
     "text": [
      "INFO:root: Expert system won, moves have been: ['2 items from row 4', '1 items from row 2', '3 items from row 3', '1 items from row 4', '1 items from row 3', '1 items from row 3', '1 items from row 3', '1 items from row 3', '3 items from row 5', '1 items from row 6', '1 items from row 6', '1 items from row 6', '1 items from row 6', '1 items from row 6', '1 items from row 6', '1 items from row 6', '1 items from row 6', '1 items from row 6', '1 items from row 6', '1 items from row 6', '1 items from row 6', '1 items from row 6']; total: 22\n"
     ]
    },
    {
     "name": "stdout",
     "output_type": "stream",
     "text": [
      "Game after MinMax system played:  [0, 0, 0, 0, 0, 8, 9]\n",
      "Game after Expert System played:  [0, 0, 0, 0, 0, 8, 8]\n",
      "Game after MinMax system played:  [0, 0, 0, 0, 0, 7, 8]\n",
      "Game after Expert System played:  [0, 0, 0, 0, 0, 7, 7]\n",
      "Game after MinMax system played:  [0, 0, 0, 0, 0, 6, 7]\n",
      "Game after Expert System played:  [0, 0, 0, 0, 0, 6, 6]\n",
      "Game after MinMax system played:  [0, 0, 0, 0, 0, 5, 6]\n",
      "Game after Expert System played:  [0, 0, 0, 0, 0, 5, 5]\n",
      "Game after MinMax system played:  [0, 0, 0, 0, 0, 4, 5]\n",
      "Game after Expert System played:  [0, 0, 0, 0, 0, 4, 4]\n",
      "Game after MinMax system played:  [0, 0, 0, 0, 0, 3, 4]\n",
      "Game after Expert System played:  [0, 0, 0, 0, 0, 3, 3]\n",
      "Game after MinMax system played:  [0, 0, 0, 0, 0, 2, 3]\n",
      "Game after Expert System played:  [0, 0, 0, 0, 0, 2, 2]\n",
      "Game after MinMax system played:  [0, 0, 0, 0, 0, 1, 2]\n",
      "Game after Expert System played:  [0, 0, 0, 0, 0, 1, 1]\n",
      "Game after MinMax system played:  [0, 0, 0, 0, 0, 0, 1]\n",
      "Game after Expert System played:  [0, 0, 0, 0, 0, 0, 0]\n"
     ]
    }
   ],
   "source": [
    "nim = Nim(7)\n",
    "player1 = ExpertSystem()\n",
    "player2 = MinMaxSystem()\n",
    "win = random.choice([1, 2])\n",
    "print(\"Start game: \", nim._rows)\n",
    "while nim.goal() == False:\n",
    "    if win == 1:\n",
    "        player1.play(nim)\n",
    "        print(\"Game after Expert System played: \", nim._rows)\n",
    "        win = 2\n",
    "    else:\n",
    "        player2.play(nim)\n",
    "        print(\"Game after MinMax system played: \", nim._rows)\n",
    "        win = 1\n",
    "if win == 1:\n",
    "    player2.printSolution()\n",
    "else:\n",
    "    player1.printSolution()"
   ]
  },
  {
   "cell_type": "markdown",
   "metadata": {},
   "source": [
    "### MinMax vs Genetic Algorithm"
   ]
  },
  {
   "cell_type": "code",
   "execution_count": 5,
   "metadata": {},
   "outputs": [
    {
     "name": "stdout",
     "output_type": "stream",
     "text": [
      "Start game:  [1, 3, 5, 7, 9, 11, 13]\n",
      "Game after Genetic Algorithm system played:  [0, 3, 5, 7, 9, 11, 13]\n",
      "Game after MinMax system played:  [0, 2, 5, 7, 9, 11, 13]\n",
      "Game after Genetic Algorithm system played:  [0, 2, 5, 7, 9, 11, 8]\n",
      "Game after MinMax system played:  [0, 1, 5, 7, 9, 11, 8]\n",
      "Game after Genetic Algorithm system played:  [0, 1, 5, 7, 9, 6, 8]\n",
      "Game after MinMax system played:  [0, 0, 5, 7, 9, 6, 8]\n",
      "Game after Genetic Algorithm system played:  [0, 0, 4, 7, 9, 6, 8]\n",
      "Game after MinMax system played:  [0, 0, 3, 7, 9, 6, 8]\n",
      "Game after Genetic Algorithm system played:  [0, 0, 3, 7, 4, 6, 8]\n",
      "Game after MinMax system played:  [0, 0, 2, 7, 4, 6, 8]\n",
      "Game after Genetic Algorithm system played:  [0, 0, 1, 7, 4, 6, 8]\n",
      "Game after MinMax system played:  [0, 0, 0, 7, 4, 6, 8]\n",
      "Game after Genetic Algorithm system played:  [0, 0, 0, 7, 4, 6, 3]\n",
      "Game after MinMax system played:  [0, 0, 0, 6, 4, 6, 3]\n",
      "Game after Genetic Algorithm system played:  [0, 0, 0, 5, 4, 6, 3]\n",
      "Game after MinMax system played:  [0, 0, 0, 4, 4, 6, 3]\n",
      "Game after Genetic Algorithm system played:  [0, 0, 0, 4, 4, 1, 3]\n",
      "Game after MinMax system played:  [0, 0, 0, 3, 4, 1, 3]\n",
      "Game after Genetic Algorithm system played:  [0, 0, 0, 3, 0, 1, 3]\n",
      "Game after MinMax system played:  [0, 0, 0, 2, 0, 1, 3]\n",
      "Game after Genetic Algorithm system played:  [0, 0, 0, 2, 0, 0, 3]\n",
      "Game after MinMax system played:  [0, 0, 0, 1, 0, 0, 3]\n",
      "Game after Genetic Algorithm system played:  [0, 0, 0, 1, 0, 0, 0]\n",
      "Game after MinMax system played:  [0, 0, 0, 0, 0, 0, 0]\n"
     ]
    },
    {
     "name": "stderr",
     "output_type": "stream",
     "text": [
      "INFO:root: MinMax system won, moves have been: ['1 items from row 1', '1 items from row 1', '1 items from row 1', '1 items from row 2', '1 items from row 2', '1 items from row 2', '1 items from row 3', '1 items from row 3', '1 items from row 3', '1 items from row 3', '1 items from row 3', '1 items from row 3']; total: 12\n"
     ]
    }
   ],
   "source": [
    "nim = Nim(7)\n",
    "player1 = GeneticAlgorithmSystem()\n",
    "player2 = MinMaxSystem()\n",
    "player3 = RandomPlayer()\n",
    "parameters = player1.evolution(nim, player3)\n",
    "win = random.choice([1, 2])\n",
    "print(\"Start game: \", nim._rows)\n",
    "while nim.goal() == False:\n",
    "    if win == 1:\n",
    "        player1.play(nim, parameters)\n",
    "        print(\"Game after Genetic Algorithm system played: \", nim._rows)\n",
    "        win = 2\n",
    "    else:\n",
    "        player2.play(nim)\n",
    "        print(\"Game after MinMax system played: \", nim._rows)\n",
    "        win = 1\n",
    "if win == 1:\n",
    "    player2.printSolution()\n",
    "else:\n",
    "    player1.printSolution()"
   ]
  },
  {
   "cell_type": "markdown",
   "metadata": {},
   "source": [
    "### RL vs Random"
   ]
  },
  {
   "cell_type": "code",
   "execution_count": 2,
   "metadata": {},
   "outputs": [
    {
     "ename": "TypeError",
     "evalue": "unsupported operand type(s) for -=: 'tuple' and 'int'",
     "output_type": "error",
     "traceback": [
      "\u001b[1;31m---------------------------------------------------------------------------\u001b[0m",
      "\u001b[1;31mTypeError\u001b[0m                                 Traceback (most recent call last)",
      "\u001b[1;32mc:\\Users\\diego\\Desktop\\Diego\\QuintoAnno\\ComputationalIntelligence\\Computational_Intelligence\\lab3\\lab3.ipynb Cell 17\u001b[0m in \u001b[0;36m<cell line: 4>\u001b[1;34m()\u001b[0m\n\u001b[0;32m      <a href='vscode-notebook-cell:/c%3A/Users/diego/Desktop/Diego/QuintoAnno/ComputationalIntelligence/Computational_Intelligence/lab3/lab3.ipynb#X22sZmlsZQ%3D%3D?line=1'>2</a>\u001b[0m player1 \u001b[39m=\u001b[39m RLSystem(game)\n\u001b[0;32m      <a href='vscode-notebook-cell:/c%3A/Users/diego/Desktop/Diego/QuintoAnno/ComputationalIntelligence/Computational_Intelligence/lab3/lab3.ipynb#X22sZmlsZQ%3D%3D?line=2'>3</a>\u001b[0m player2 \u001b[39m=\u001b[39m RandomPlayer()\n\u001b[1;32m----> <a href='vscode-notebook-cell:/c%3A/Users/diego/Desktop/Diego/QuintoAnno/ComputationalIntelligence/Computational_Intelligence/lab3/lab3.ipynb#X22sZmlsZQ%3D%3D?line=3'>4</a>\u001b[0m player1\u001b[39m.\u001b[39;49mplay(player2)\n",
      "File \u001b[1;32mc:\\Users\\diego\\Desktop\\Diego\\QuintoAnno\\ComputationalIntelligence\\Computational_Intelligence\\lab3\\lib.py:275\u001b[0m, in \u001b[0;36mRLSystem.play\u001b[1;34m(self, player, parameters)\u001b[0m\n\u001b[0;32m    273\u001b[0m action \u001b[39m=\u001b[39m \u001b[39mself\u001b[39m\u001b[39m.\u001b[39m_robot\u001b[39m.\u001b[39mchoose_action(\u001b[39mself\u001b[39m\u001b[39m.\u001b[39mallowed_states())\n\u001b[0;32m    274\u001b[0m \u001b[39mself\u001b[39m\u001b[39m.\u001b[39m_nim\u001b[39m.\u001b[39mnimming_remove(action[\u001b[39m0\u001b[39m][\u001b[39m0\u001b[39m], action[\u001b[39m0\u001b[39m][\u001b[39m1\u001b[39m])  \u001b[39m# Update the nim according to the action\u001b[39;00m\n\u001b[1;32m--> 275\u001b[0m \u001b[39mself\u001b[39m\u001b[39m.\u001b[39m_robot_state \u001b[39m-\u001b[39m\u001b[39m=\u001b[39m action[\u001b[39m0\u001b[39m][\u001b[39m1\u001b[39m]\n\u001b[0;32m    276\u001b[0m \u001b[39mself\u001b[39m\u001b[39m.\u001b[39m_nim_steps \u001b[39m+\u001b[39m\u001b[39m=\u001b[39m \u001b[39m1\u001b[39m\n\u001b[0;32m    277\u001b[0m state, reward \u001b[39m=\u001b[39m \u001b[39mself\u001b[39m\u001b[39m.\u001b[39mget_state_and_reward()  \u001b[39m# Get the new state and reward\u001b[39;00m\n",
      "\u001b[1;31mTypeError\u001b[0m: unsupported operand type(s) for -=: 'tuple' and 'int'"
     ]
    }
   ],
   "source": [
    "game = Nim(7)\n",
    "player1 = RLSystem(game)\n",
    "player2 = RandomPlayer()\n",
    "player1.play(player2)"
   ]
  },
  {
   "cell_type": "markdown",
   "metadata": {},
   "source": [
    "### RL vs Expert"
   ]
  },
  {
   "cell_type": "code",
   "execution_count": null,
   "metadata": {},
   "outputs": [],
   "source": []
  },
  {
   "cell_type": "markdown",
   "metadata": {},
   "source": [
    "### RL vs Genetic Algorithm"
   ]
  },
  {
   "cell_type": "code",
   "execution_count": null,
   "metadata": {},
   "outputs": [],
   "source": []
  },
  {
   "cell_type": "markdown",
   "metadata": {},
   "source": [
    "### RL vs MinMax"
   ]
  },
  {
   "cell_type": "code",
   "execution_count": null,
   "metadata": {},
   "outputs": [],
   "source": []
  }
 ],
 "metadata": {
  "kernelspec": {
   "display_name": "Python 3.9.12 ('base')",
   "language": "python",
   "name": "python3"
  },
  "language_info": {
   "codemirror_mode": {
    "name": "ipython",
    "version": 3
   },
   "file_extension": ".py",
   "mimetype": "text/x-python",
   "name": "python",
   "nbconvert_exporter": "python",
   "pygments_lexer": "ipython3",
   "version": "3.9.12"
  },
  "orig_nbformat": 4,
  "vscode": {
   "interpreter": {
    "hash": "465bc43bf4cbae58c142e3527ff2b05702dd810bc8ebc4f627e0af6c067b87a4"
   }
  }
 },
 "nbformat": 4,
 "nbformat_minor": 2
}
