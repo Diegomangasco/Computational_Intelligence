{
 "cells": [
  {
   "cell_type": "markdown",
   "metadata": {},
   "source": [
    "## Imports"
   ]
  },
  {
   "cell_type": "code",
   "execution_count": 1,
   "metadata": {},
   "outputs": [],
   "source": [
    "import random\n",
    "from lib import Nim\n",
    "from lib import RandomPlayer\n",
    "from lib import ExpertSystem\n",
    "from lib import GeneticAlgorithmSystem\n",
    "from lib import MinMaxSystem\n",
    "from lib import RLSystem"
   ]
  },
  {
   "cell_type": "markdown",
   "metadata": {},
   "source": [
    "## Games"
   ]
  },
  {
   "cell_type": "markdown",
   "metadata": {},
   "source": [
    "### Expert vs Random"
   ]
  },
  {
   "cell_type": "code",
   "execution_count": 2,
   "metadata": {},
   "outputs": [
    {
     "name": "stderr",
     "output_type": "stream",
     "text": [
      "INFO:root: Expert system won, moves have been: ['9 items from row 4', '2 items from row 1', '1 items from row 1', '11 items from row 6', '4 items from row 3', '3 items from row 2', '1 items from row 6']; total: 7\n"
     ]
    },
    {
     "name": "stdout",
     "output_type": "stream",
     "text": [
      "Start game:  [1, 3, 5, 7, 9, 11, 13]\n",
      "Game after Random player played:  [1, 3, 3, 7, 9, 11, 13]\n",
      "Game after Expert system played:  [1, 3, 3, 7, 0, 11, 13]\n",
      "Game after Random player played:  [1, 3, 3, 5, 0, 11, 13]\n",
      "Game after Expert system played:  [1, 1, 3, 5, 0, 11, 13]\n",
      "Game after Random player played:  [0, 1, 3, 5, 0, 11, 13]\n",
      "Game after Expert system played:  [0, 0, 3, 5, 0, 11, 13]\n",
      "Game after Random player played:  [0, 0, 3, 5, 0, 4, 13]\n",
      "Game after Expert system played:  [0, 0, 3, 5, 0, 4, 2]\n",
      "Game after Random player played:  [0, 0, 3, 5, 0, 0, 2]\n",
      "Game after Expert system played:  [0, 0, 3, 1, 0, 0, 2]\n",
      "Game after Random player played:  [0, 0, 3, 1, 0, 0, 1]\n",
      "Game after Expert system played:  [0, 0, 0, 1, 0, 0, 1]\n",
      "Game after Random player played:  [0, 0, 0, 0, 0, 0, 1]\n",
      "Game after Expert system played:  [0, 0, 0, 0, 0, 0, 0]\n"
     ]
    }
   ],
   "source": [
    "nim = Nim(7)\n",
    "player1 = RandomPlayer()\n",
    "player2 = ExpertSystem()\n",
    "win = random.choice([1, 2])\n",
    "print(\"Start game: \", nim._rows)\n",
    "while nim.goal() == False:\n",
    "    if win == 1:\n",
    "        player1.play(nim)\n",
    "        print(\"Game after Random player played: \", nim._rows)\n",
    "        win = 2\n",
    "    else:\n",
    "        player2.play(nim)\n",
    "        print(\"Game after Expert system played: \", nim._rows)\n",
    "        win = 1\n",
    "if win == 1:\n",
    "    player2.printSolution()\n",
    "else:\n",
    "    player1.printSolution()"
   ]
  },
  {
   "cell_type": "markdown",
   "metadata": {},
   "source": [
    "### Genetic Algorithm vs Random"
   ]
  },
  {
   "cell_type": "code",
   "execution_count": 2,
   "metadata": {},
   "outputs": [
    {
     "name": "stderr",
     "output_type": "stream",
     "text": [
      "INFO:root: Genetic Algorithm system won, moves have been: ['1 items from row 0', '2 items from row 6', '1 items from row 1', '4 items from row 3', '9 items from row 4', '2 items from row 6', '2 items from row 1', '1 items from row 2']; total: 8\n"
     ]
    },
    {
     "name": "stdout",
     "output_type": "stream",
     "text": [
      "Start game:  [1, 3, 5, 7, 9, 11, 13]\n",
      "Game after Genetic Algorithm system played:  [0, 3, 5, 7, 9, 11, 13]\n",
      "Game after Random player played:  [0, 3, 5, 4, 9, 11, 13]\n",
      "Game after Genetic Algorithm system played:  [0, 3, 5, 4, 9, 11, 11]\n",
      "Game after Random player played:  [0, 3, 5, 4, 9, 8, 11]\n",
      "Game after Genetic Algorithm system played:  [0, 2, 5, 4, 9, 8, 11]\n",
      "Game after Random player played:  [0, 2, 1, 4, 9, 8, 11]\n",
      "Game after Genetic Algorithm system played:  [0, 2, 1, 0, 9, 8, 11]\n",
      "Game after Random player played:  [0, 2, 1, 0, 9, 1, 11]\n",
      "Game after Genetic Algorithm system played:  [0, 2, 1, 0, 0, 1, 11]\n",
      "Game after Random player played:  [0, 2, 1, 0, 0, 1, 6]\n",
      "Game after Genetic Algorithm system played:  [0, 2, 1, 0, 0, 1, 4]\n",
      "Game after Random player played:  [0, 2, 1, 0, 0, 1, 0]\n",
      "Game after Genetic Algorithm system played:  [0, 0, 1, 0, 0, 1, 0]\n",
      "Game after Random player played:  [0, 0, 1, 0, 0, 0, 0]\n",
      "Game after Genetic Algorithm system played:  [0, 0, 0, 0, 0, 0, 0]\n"
     ]
    }
   ],
   "source": [
    "nim = Nim(7)\n",
    "player1 = RandomPlayer()\n",
    "player2 = GeneticAlgorithmSystem()\n",
    "parameters = player2.evolution(nim, player1)\n",
    "win = random.choice([1, 2])\n",
    "print(\"Start game: \", nim._rows)\n",
    "while nim.goal() == False:\n",
    "    if win == 1:\n",
    "        player1.play(nim)\n",
    "        print(\"Game after Random player played: \", nim._rows)\n",
    "        win = 2\n",
    "    else:\n",
    "        player2.play(nim, parameters)\n",
    "        print(\"Game after Genetic Algorithm system played: \", nim._rows)\n",
    "        win = 1\n",
    "if win == 1:\n",
    "    player2.printSolution()\n",
    "else:\n",
    "    player1.printSolution()"
   ]
  },
  {
   "cell_type": "markdown",
   "metadata": {},
   "source": [
    "### Genetic Algorithm vs Expert"
   ]
  },
  {
   "cell_type": "code",
   "execution_count": 4,
   "metadata": {},
   "outputs": [
    {
     "name": "stderr",
     "output_type": "stream",
     "text": [
      "INFO:root: Expert system won, moves have been: ['3 items from row 4', '1 items from row 1', '3 items from row 3', '2 items from row 2', '7 items from row 6', '1 items from row 2', '1 items from row 6', '3 items from row 3', '1 items from row 3']; total: 9\n"
     ]
    },
    {
     "name": "stdout",
     "output_type": "stream",
     "text": [
      "Start game:  [1, 3, 5, 7, 9, 11, 13]\n",
      "Game after Expert System played:  [1, 3, 5, 7, 6, 11, 13]\n",
      "Game after Genetic Algorithm system played:  [0, 3, 5, 7, 6, 11, 13]\n",
      "Game after Expert System played:  [0, 2, 5, 7, 6, 11, 13]\n",
      "Game after Genetic Algorithm system played:  [0, 1, 5, 7, 6, 11, 13]\n",
      "Game after Expert System played:  [0, 1, 5, 4, 6, 11, 13]\n",
      "Game after Genetic Algorithm system played:  [0, 1, 5, 4, 0, 11, 13]\n",
      "Game after Expert System played:  [0, 1, 3, 4, 0, 11, 13]\n",
      "Game after Genetic Algorithm system played:  [0, 1, 3, 4, 0, 0, 13]\n",
      "Game after Expert System played:  [0, 1, 3, 4, 0, 0, 6]\n",
      "Game after Genetic Algorithm system played:  [0, 0, 3, 4, 0, 0, 6]\n",
      "Game after Expert System played:  [0, 0, 2, 4, 0, 0, 6]\n",
      "Game after Genetic Algorithm system played:  [0, 0, 1, 4, 0, 0, 6]\n",
      "Game after Expert System played:  [0, 0, 1, 4, 0, 0, 5]\n",
      "Game after Genetic Algorithm system played:  [0, 0, 1, 4, 0, 0, 0]\n",
      "Game after Expert System played:  [0, 0, 1, 1, 0, 0, 0]\n",
      "Game after Genetic Algorithm system played:  [0, 0, 0, 1, 0, 0, 0]\n",
      "Game after Expert System played:  [0, 0, 0, 0, 0, 0, 0]\n"
     ]
    }
   ],
   "source": [
    "nim = Nim(7)\n",
    "player1 = ExpertSystem()\n",
    "player2 = GeneticAlgorithmSystem()\n",
    "player3 = RandomPlayer()\n",
    "parameters = player2.evolution(nim, player3)\n",
    "win = random.choice([1, 2])\n",
    "print(\"Start game: \", nim._rows)\n",
    "while nim.goal() == False:\n",
    "    if win == 1:\n",
    "        player1.play(nim)\n",
    "        print(\"Game after Expert System played: \", nim._rows)\n",
    "        win = 2\n",
    "    else:\n",
    "        player2.play(nim, parameters)\n",
    "        print(\"Game after Genetic Algorithm system played: \", nim._rows)\n",
    "        win = 1\n",
    "if win == 1:\n",
    "    player2.printSolution()\n",
    "else:\n",
    "    player1.printSolution()"
   ]
  },
  {
   "cell_type": "markdown",
   "metadata": {},
   "source": [
    "### MinMax vs Random"
   ]
  },
  {
   "cell_type": "code",
   "execution_count": 3,
   "metadata": {},
   "outputs": [
    {
     "name": "stdout",
     "output_type": "stream",
     "text": [
      "Start game:  [1, 3, 5, 7, 9, 11, 13]\n",
      "Game after Random player played:  [1, 3, 5, 7, 3, 11, 13]\n",
      "Game after MinMax system played:  [0, 3, 5, 7, 3, 11, 13]\n",
      "Game after Random player played:  [0, 2, 5, 7, 3, 11, 13]\n",
      "Game after MinMax system played:  [0, 1, 5, 7, 3, 11, 13]\n",
      "Game after Random player played:  [0, 1, 5, 7, 3, 11, 4]\n",
      "Game after MinMax system played:  [0, 0, 5, 7, 3, 11, 4]\n",
      "Game after Random player played:  [0, 0, 5, 7, 3, 2, 4]\n",
      "Game after MinMax system played:  [0, 0, 4, 7, 3, 2, 4]\n",
      "Game after Random player played:  [0, 0, 4, 7, 3, 2, 0]\n",
      "Game after MinMax system played:  [0, 0, 3, 7, 3, 2, 0]\n",
      "Game after Random player played:  [0, 0, 3, 7, 3, 1, 0]\n",
      "Game after MinMax system played:  [0, 0, 2, 7, 3, 1, 0]\n",
      "Game after Random player played:  [0, 0, 0, 7, 3, 1, 0]\n",
      "Game after MinMax system played:  [0, 0, 0, 6, 3, 1, 0]\n",
      "Game after Random player played:  [0, 0, 0, 5, 3, 1, 0]\n"
     ]
    },
    {
     "name": "stderr",
     "output_type": "stream",
     "text": [
      "INFO:root: MinMax system won, moves have been: ['1 items from row 0', '1 items from row 1', '1 items from row 1', '1 items from row 2', '1 items from row 2', '1 items from row 2', '1 items from row 3', '1 items from row 3', '1 items from row 3', '1 items from row 3', '2 items from row 3']; total: 11\n"
     ]
    },
    {
     "name": "stdout",
     "output_type": "stream",
     "text": [
      "Game after MinMax system played:  [0, 0, 0, 4, 3, 1, 0]\n",
      "Game after Random player played:  [0, 0, 0, 4, 3, 0, 0]\n",
      "Game after MinMax system played:  [0, 0, 0, 3, 3, 0, 0]\n",
      "Game after Random player played:  [0, 0, 0, 3, 2, 0, 0]\n",
      "Game after MinMax system played:  [0, 0, 0, 2, 2, 0, 0]\n",
      "Game after Random player played:  [0, 0, 0, 2, 0, 0, 0]\n",
      "Game after MinMax system played:  [0, 0, 0, 0, 0, 0, 0]\n"
     ]
    }
   ],
   "source": [
    "nim = Nim(7)\n",
    "player1 = RandomPlayer()\n",
    "player2 = MinMaxSystem()\n",
    "win = random.choice([1, 2])\n",
    "print(\"Start game: \", nim._rows)\n",
    "while nim.goal() == False:\n",
    "    if win == 1:\n",
    "        player1.play(nim)\n",
    "        print(\"Game after Random player played: \", nim._rows)\n",
    "        win = 2\n",
    "    else:\n",
    "        player2.play(nim)\n",
    "        print(\"Game after MinMax system played: \", nim._rows)\n",
    "        win = 1\n",
    "if win == 1:\n",
    "    player2.printSolution()\n",
    "else:\n",
    "    player1.printSolution()"
   ]
  },
  {
   "cell_type": "markdown",
   "metadata": {},
   "source": [
    "### MinMax vs Expert"
   ]
  },
  {
   "cell_type": "code",
   "execution_count": 4,
   "metadata": {},
   "outputs": [
    {
     "name": "stdout",
     "output_type": "stream",
     "text": [
      "Start game:  [1, 3, 5, 7, 9, 11, 13]\n",
      "Game after MinMax system played:  [0, 3, 5, 7, 9, 11, 13]\n",
      "Game after Expert System played:  [0, 3, 5, 7, 7, 11, 13]\n",
      "Game after MinMax system played:  [0, 2, 5, 7, 7, 11, 13]\n",
      "Game after Expert System played:  [0, 2, 4, 7, 7, 11, 13]\n",
      "Game after MinMax system played:  [0, 1, 4, 7, 7, 11, 13]\n",
      "Game after Expert System played:  [0, 1, 4, 4, 7, 11, 13]\n",
      "Game after MinMax system played:  [0, 0, 4, 4, 7, 11, 13]\n",
      "Game after Expert System played:  [0, 0, 4, 4, 6, 11, 13]\n",
      "Game after MinMax system played:  [0, 0, 3, 4, 6, 11, 13]\n",
      "Game after Expert System played:  [0, 0, 3, 3, 6, 11, 13]\n",
      "Game after MinMax system played:  [0, 0, 2, 3, 6, 11, 13]\n",
      "Game after Expert System played:  [0, 0, 2, 2, 6, 11, 13]\n",
      "Game after MinMax system played:  [0, 0, 1, 2, 6, 11, 13]\n",
      "Game after Expert System played:  [0, 0, 1, 1, 6, 11, 13]\n",
      "Game after MinMax system played:  [0, 0, 0, 1, 6, 11, 13]\n",
      "Game after Expert System played:  [0, 0, 0, 0, 6, 11, 13]\n",
      "Game after MinMax system played:  [0, 0, 0, 0, 5, 11, 13]\n",
      "Game after Expert System played:  [0, 0, 0, 0, 5, 8, 13]\n",
      "Game after MinMax system played:  [0, 0, 0, 0, 4, 8, 13]\n",
      "Game after Expert System played:  [0, 0, 0, 0, 4, 8, 12]\n",
      "Game after MinMax system played:  [0, 0, 0, 0, 3, 8, 12]\n",
      "Game after Expert System played:  [0, 0, 0, 0, 3, 8, 11]\n",
      "Game after MinMax system played:  [0, 0, 0, 0, 2, 8, 11]\n",
      "Game after Expert System played:  [0, 0, 0, 0, 2, 8, 10]\n",
      "Game after MinMax system played:  [0, 0, 0, 0, 1, 8, 10]\n",
      "Game after Expert System played:  [0, 0, 0, 0, 1, 8, 9]\n"
     ]
    },
    {
     "name": "stderr",
     "output_type": "stream",
     "text": [
      "INFO:root: Expert system won, moves have been: ['2 items from row 4', '1 items from row 2', '3 items from row 3', '1 items from row 4', '1 items from row 3', '1 items from row 3', '1 items from row 3', '1 items from row 3', '3 items from row 5', '1 items from row 6', '1 items from row 6', '1 items from row 6', '1 items from row 6', '1 items from row 6', '1 items from row 6', '1 items from row 6', '1 items from row 6', '1 items from row 6', '1 items from row 6', '1 items from row 6', '1 items from row 6', '1 items from row 6']; total: 22\n"
     ]
    },
    {
     "name": "stdout",
     "output_type": "stream",
     "text": [
      "Game after MinMax system played:  [0, 0, 0, 0, 0, 8, 9]\n",
      "Game after Expert System played:  [0, 0, 0, 0, 0, 8, 8]\n",
      "Game after MinMax system played:  [0, 0, 0, 0, 0, 7, 8]\n",
      "Game after Expert System played:  [0, 0, 0, 0, 0, 7, 7]\n",
      "Game after MinMax system played:  [0, 0, 0, 0, 0, 6, 7]\n",
      "Game after Expert System played:  [0, 0, 0, 0, 0, 6, 6]\n",
      "Game after MinMax system played:  [0, 0, 0, 0, 0, 5, 6]\n",
      "Game after Expert System played:  [0, 0, 0, 0, 0, 5, 5]\n",
      "Game after MinMax system played:  [0, 0, 0, 0, 0, 4, 5]\n",
      "Game after Expert System played:  [0, 0, 0, 0, 0, 4, 4]\n",
      "Game after MinMax system played:  [0, 0, 0, 0, 0, 3, 4]\n",
      "Game after Expert System played:  [0, 0, 0, 0, 0, 3, 3]\n",
      "Game after MinMax system played:  [0, 0, 0, 0, 0, 2, 3]\n",
      "Game after Expert System played:  [0, 0, 0, 0, 0, 2, 2]\n",
      "Game after MinMax system played:  [0, 0, 0, 0, 0, 1, 2]\n",
      "Game after Expert System played:  [0, 0, 0, 0, 0, 1, 1]\n",
      "Game after MinMax system played:  [0, 0, 0, 0, 0, 0, 1]\n",
      "Game after Expert System played:  [0, 0, 0, 0, 0, 0, 0]\n"
     ]
    }
   ],
   "source": [
    "nim = Nim(7)\n",
    "player1 = ExpertSystem()\n",
    "player2 = MinMaxSystem()\n",
    "win = random.choice([1, 2])\n",
    "print(\"Start game: \", nim._rows)\n",
    "while nim.goal() == False:\n",
    "    if win == 1:\n",
    "        player1.play(nim)\n",
    "        print(\"Game after Expert System played: \", nim._rows)\n",
    "        win = 2\n",
    "    else:\n",
    "        player2.play(nim)\n",
    "        print(\"Game after MinMax system played: \", nim._rows)\n",
    "        win = 1\n",
    "if win == 1:\n",
    "    player2.printSolution()\n",
    "else:\n",
    "    player1.printSolution()"
   ]
  },
  {
   "cell_type": "markdown",
   "metadata": {},
   "source": [
    "### MinMax vs Genetic Algorithm"
   ]
  },
  {
   "cell_type": "code",
   "execution_count": 5,
   "metadata": {},
   "outputs": [
    {
     "name": "stdout",
     "output_type": "stream",
     "text": [
      "Start game:  [1, 3, 5, 7, 9, 11, 13]\n",
      "Game after Genetic Algorithm system played:  [0, 3, 5, 7, 9, 11, 13]\n",
      "Game after MinMax system played:  [0, 2, 5, 7, 9, 11, 13]\n",
      "Game after Genetic Algorithm system played:  [0, 2, 5, 7, 9, 11, 8]\n",
      "Game after MinMax system played:  [0, 1, 5, 7, 9, 11, 8]\n",
      "Game after Genetic Algorithm system played:  [0, 1, 5, 7, 9, 6, 8]\n",
      "Game after MinMax system played:  [0, 0, 5, 7, 9, 6, 8]\n",
      "Game after Genetic Algorithm system played:  [0, 0, 4, 7, 9, 6, 8]\n",
      "Game after MinMax system played:  [0, 0, 3, 7, 9, 6, 8]\n",
      "Game after Genetic Algorithm system played:  [0, 0, 3, 7, 4, 6, 8]\n",
      "Game after MinMax system played:  [0, 0, 2, 7, 4, 6, 8]\n",
      "Game after Genetic Algorithm system played:  [0, 0, 1, 7, 4, 6, 8]\n",
      "Game after MinMax system played:  [0, 0, 0, 7, 4, 6, 8]\n",
      "Game after Genetic Algorithm system played:  [0, 0, 0, 7, 4, 6, 3]\n",
      "Game after MinMax system played:  [0, 0, 0, 6, 4, 6, 3]\n",
      "Game after Genetic Algorithm system played:  [0, 0, 0, 5, 4, 6, 3]\n",
      "Game after MinMax system played:  [0, 0, 0, 4, 4, 6, 3]\n",
      "Game after Genetic Algorithm system played:  [0, 0, 0, 4, 4, 1, 3]\n",
      "Game after MinMax system played:  [0, 0, 0, 3, 4, 1, 3]\n",
      "Game after Genetic Algorithm system played:  [0, 0, 0, 3, 0, 1, 3]\n",
      "Game after MinMax system played:  [0, 0, 0, 2, 0, 1, 3]\n",
      "Game after Genetic Algorithm system played:  [0, 0, 0, 2, 0, 0, 3]\n",
      "Game after MinMax system played:  [0, 0, 0, 1, 0, 0, 3]\n",
      "Game after Genetic Algorithm system played:  [0, 0, 0, 1, 0, 0, 0]\n",
      "Game after MinMax system played:  [0, 0, 0, 0, 0, 0, 0]\n"
     ]
    },
    {
     "name": "stderr",
     "output_type": "stream",
     "text": [
      "INFO:root: MinMax system won, moves have been: ['1 items from row 1', '1 items from row 1', '1 items from row 1', '1 items from row 2', '1 items from row 2', '1 items from row 2', '1 items from row 3', '1 items from row 3', '1 items from row 3', '1 items from row 3', '1 items from row 3', '1 items from row 3']; total: 12\n"
     ]
    }
   ],
   "source": [
    "nim = Nim(7)\n",
    "player1 = GeneticAlgorithmSystem()\n",
    "player2 = MinMaxSystem()\n",
    "player3 = RandomPlayer()\n",
    "parameters = player1.evolution(nim, player3)\n",
    "win = random.choice([1, 2])\n",
    "print(\"Start game: \", nim._rows)\n",
    "while nim.goal() == False:\n",
    "    if win == 1:\n",
    "        player1.play(nim, parameters)\n",
    "        print(\"Game after Genetic Algorithm system played: \", nim._rows)\n",
    "        win = 2\n",
    "    else:\n",
    "        player2.play(nim)\n",
    "        print(\"Game after MinMax system played: \", nim._rows)\n",
    "        win = 1\n",
    "if win == 1:\n",
    "    player2.printSolution()\n",
    "else:\n",
    "    player1.printSolution()"
   ]
  },
  {
   "cell_type": "markdown",
   "metadata": {},
   "source": [
    "### RL vs Random"
   ]
  },
  {
   "cell_type": "code",
   "execution_count": 2,
   "metadata": {},
   "outputs": [
    {
     "name": "stdout",
     "output_type": "stream",
     "text": [
      "0: 8\n",
      "50: 9\n",
      "100: 8\n",
      "150: 9\n",
      "200: 9\n",
      "250: 8\n",
      "300: 9\n",
      "350: 10\n",
      "400: 9\n",
      "450: 7\n",
      "500: 9\n",
      "550: 9\n",
      "600: 9\n",
      "650: 10\n",
      "700: 10\n",
      "750: 8\n",
      "800: 9\n",
      "850: 8\n",
      "900: 11\n",
      "950: 8\n",
      "1000: 9\n",
      "1050: 11\n",
      "1100: 7\n",
      "1150: 9\n",
      "1200: 9\n",
      "1250: 9\n",
      "1300: 9\n",
      "1350: 8\n",
      "1400: 7\n",
      "1450: 8\n",
      "1500: 9\n",
      "1550: 6\n",
      "1600: 10\n",
      "1650: 6\n",
      "1700: 9\n",
      "1750: 8\n",
      "1800: 7\n",
      "1850: 7\n",
      "1900: 8\n",
      "1950: 10\n",
      "2000: 10\n",
      "2050: 10\n",
      "2100: 11\n",
      "2150: 9\n",
      "2200: 8\n",
      "2250: 9\n",
      "2300: 6\n",
      "2350: 10\n",
      "2400: 9\n",
      "2450: 8\n",
      "2500: 8\n",
      "2550: 8\n",
      "2600: 8\n",
      "2650: 9\n",
      "2700: 7\n",
      "2750: 11\n",
      "2800: 10\n",
      "2850: 10\n",
      "2900: 9\n",
      "2950: 12\n",
      "3000: 10\n",
      "3050: 12\n",
      "3100: 10\n",
      "3150: 9\n",
      "3200: 8\n",
      "3250: 7\n",
      "3300: 9\n",
      "3350: 10\n",
      "3400: 10\n",
      "3450: 10\n",
      "3500: 9\n",
      "3550: 8\n",
      "3600: 10\n",
      "3650: 11\n",
      "3700: 9\n",
      "3750: 9\n",
      "3800: 7\n",
      "3850: 10\n",
      "3900: 9\n",
      "3950: 9\n",
      "4000: 10\n",
      "4050: 10\n",
      "4100: 9\n",
      "4150: 8\n",
      "4200: 11\n",
      "4250: 8\n",
      "4300: 8\n",
      "4350: 8\n",
      "4400: 9\n",
      "4450: 9\n",
      "4500: 8\n",
      "4550: 5\n",
      "4600: 8\n",
      "4650: 9\n",
      "4700: 11\n",
      "4750: 8\n",
      "4800: 7\n",
      "4850: 9\n",
      "4900: 11\n"
     ]
    },
    {
     "name": "stderr",
     "output_type": "stream",
     "text": [
      "INFO:root: RL system total wins: 3322\n"
     ]
    },
    {
     "name": "stdout",
     "output_type": "stream",
     "text": [
      "4950: 9\n"
     ]
    },
    {
     "data": {
      "image/png": "[encoded data removed]",
      "text/plain": [
       "<Figure size 432x288 with 1 Axes>"
      ]
     },
     "metadata": {
      "needs_background": "light"
     },
     "output_type": "display_data"
    }
   ],
   "source": [
    "game = Nim(7)\n",
    "player1 = RLSystem(game)\n",
    "player2 = RandomPlayer()\n",
    "player1.play(player2)"
   ]
  },
  {
   "cell_type": "markdown",
   "metadata": {},
   "source": [
    "### RL vs Expert"
   ]
  },
  {
   "cell_type": "code",
   "execution_count": 3,
   "metadata": {},
   "outputs": [
    {
     "name": "stdout",
     "output_type": "stream",
     "text": [
      "0: 7\n",
      "50: 8\n",
      "100: 9\n",
      "150: 9\n",
      "200: 8\n",
      "250: 9\n",
      "300: 7\n",
      "350: 7\n",
      "400: 8\n",
      "450: 10\n",
      "500: 7\n",
      "550: 7\n",
      "600: 5\n",
      "650: 10\n",
      "700: 6\n",
      "750: 9\n",
      "800: 8\n",
      "850: 7\n",
      "900: 10\n",
      "950: 8\n",
      "1000: 7\n",
      "1050: 7\n",
      "1100: 7\n",
      "1150: 6\n",
      "1200: 7\n",
      "1250: 7\n",
      "1300: 7\n",
      "1350: 7\n",
      "1400: 6\n",
      "1450: 7\n",
      "1500: 7\n",
      "1550: 7\n",
      "1600: 9\n",
      "1650: 6\n",
      "1700: 9\n",
      "1750: 6\n",
      "1800: 6\n",
      "1850: 9\n",
      "1900: 9\n",
      "1950: 7\n",
      "2000: 6\n",
      "2050: 8\n",
      "2100: 8\n",
      "2150: 7\n",
      "2200: 7\n",
      "2250: 10\n",
      "2300: 7\n",
      "2350: 8\n",
      "2400: 10\n",
      "2450: 7\n",
      "2500: 7\n",
      "2550: 9\n",
      "2600: 9\n",
      "2650: 6\n",
      "2700: 7\n",
      "2750: 9\n",
      "2800: 9\n",
      "2850: 7\n",
      "2900: 7\n",
      "2950: 7\n",
      "3000: 6\n",
      "3050: 7\n",
      "3100: 7\n",
      "3150: 7\n",
      "3200: 9\n",
      "3250: 8\n",
      "3300: 9\n",
      "3350: 5\n",
      "3400: 7\n",
      "3450: 5\n",
      "3500: 8\n",
      "3550: 8\n",
      "3600: 8\n",
      "3650: 5\n",
      "3700: 9\n",
      "3750: 8\n",
      "3800: 7\n",
      "3850: 6\n",
      "3900: 8\n",
      "3950: 7\n",
      "4000: 7\n",
      "4050: 6\n",
      "4100: 8\n",
      "4150: 6\n",
      "4200: 7\n",
      "4250: 5\n",
      "4300: 6\n",
      "4350: 6\n",
      "4400: 5\n",
      "4450: 6\n",
      "4500: 6\n",
      "4550: 8\n",
      "4600: 5\n",
      "4650: 7\n",
      "4700: 6\n",
      "4750: 5\n",
      "4800: 5\n",
      "4850: 5\n",
      "4900: 5\n",
      "4950: 5\n"
     ]
    },
    {
     "name": "stderr",
     "output_type": "stream",
     "text": [
      "INFO:root: RL system total wins: 0\n"
     ]
    },
    {
     "data": {
      "image/png": "[encoded data removed]",
      "text/plain": [
       "<Figure size 432x288 with 1 Axes>"
      ]
     },
     "metadata": {
      "needs_background": "light"
     },
     "output_type": "display_data"
    }
   ],
   "source": [
    "game = Nim(7)\n",
    "player1 = RLSystem(game)\n",
    "player2 = ExpertSystem()\n",
    "player1.play(player2)"
   ]
  },
  {
   "cell_type": "markdown",
   "metadata": {},
   "source": [
    "### RL vs Genetic Algorithm"
   ]
  },
  {
   "cell_type": "code",
   "execution_count": 5,
   "metadata": {},
   "outputs": [
    {
     "ename": "NameError",
     "evalue": "name 'nim' is not defined",
     "output_type": "error",
     "traceback": [
      "\u001b[1;31m---------------------------------------------------------------------------\u001b[0m",
      "\u001b[1;31mNameError\u001b[0m                                 Traceback (most recent call last)",
      "\u001b[1;32mc:\\Users\\diego\\Desktop\\Diego\\QuintoAnno\\ComputationalIntelligence\\Computational_Intelligence\\lab3\\lab3.ipynb Cell 21\u001b[0m in \u001b[0;36m<cell line: 5>\u001b[1;34m()\u001b[0m\n\u001b[0;32m      <a href='vscode-notebook-cell:/c%3A/Users/diego/Desktop/Diego/QuintoAnno/ComputationalIntelligence/Computational_Intelligence/lab3/lab3.ipynb#X26sZmlsZQ%3D%3D?line=2'>3</a>\u001b[0m player2 \u001b[39m=\u001b[39m GeneticAlgorithmSystem()\n\u001b[0;32m      <a href='vscode-notebook-cell:/c%3A/Users/diego/Desktop/Diego/QuintoAnno/ComputationalIntelligence/Computational_Intelligence/lab3/lab3.ipynb#X26sZmlsZQ%3D%3D?line=3'>4</a>\u001b[0m player3 \u001b[39m=\u001b[39m RandomPlayer()\n\u001b[1;32m----> <a href='vscode-notebook-cell:/c%3A/Users/diego/Desktop/Diego/QuintoAnno/ComputationalIntelligence/Computational_Intelligence/lab3/lab3.ipynb#X26sZmlsZQ%3D%3D?line=4'>5</a>\u001b[0m parameters \u001b[39m=\u001b[39m player2\u001b[39m.\u001b[39mevolution(nim, player3)\n\u001b[0;32m      <a href='vscode-notebook-cell:/c%3A/Users/diego/Desktop/Diego/QuintoAnno/ComputationalIntelligence/Computational_Intelligence/lab3/lab3.ipynb#X26sZmlsZQ%3D%3D?line=5'>6</a>\u001b[0m player1\u001b[39m.\u001b[39mplay(player2, parameters)\n",
      "\u001b[1;31mNameError\u001b[0m: name 'nim' is not defined"
     ]
    }
   ],
   "source": [
    "game = Nim(7)\n",
    "player1 = RLSystem(game)\n",
    "player2 = GeneticAlgorithmSystem()\n",
    "player3 = RandomPlayer()\n",
    "parameters = player2.evolution(game, player3)\n",
    "player1.play(player2, parameters)"
   ]
  },
  {
   "cell_type": "markdown",
   "metadata": {},
   "source": [
    "### RL vs MinMax"
   ]
  },
  {
   "cell_type": "code",
   "execution_count": null,
   "metadata": {},
   "outputs": [],
   "source": [
    "game = Nim(7)\n",
    "player1 = RLSystem(game)\n",
    "player2 = MinMaxSystem()\n",
    "player1.play(player2)"
   ]
  }
 ],
 "metadata": {
  "kernelspec": {
   "display_name": "base",
   "language": "python",
   "name": "python3"
  },
  "language_info": {
   "codemirror_mode": {
    "name": "ipython",
    "version": 3
   },
   "file_extension": ".py",
   "mimetype": "text/x-python",
   "name": "python",
   "nbconvert_exporter": "python",
   "pygments_lexer": "ipython3",
   "version": "3.9.12"
  },
  "orig_nbformat": 4,
  "vscode": {
   "interpreter": {
    "hash": "465bc43bf4cbae58c142e3527ff2b05702dd810bc8ebc4f627e0af6c067b87a4"
   }
  }
 },
 "nbformat": 4,
 "nbformat_minor": 2
}
