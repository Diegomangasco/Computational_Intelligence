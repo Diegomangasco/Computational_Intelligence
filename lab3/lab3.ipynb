{
 "cells": [
  {
   "cell_type": "markdown",
   "metadata": {},
   "source": [
    "## Imports"
   ]
  },
  {
   "cell_type": "code",
   "execution_count": 1,
   "metadata": {},
   "outputs": [],
   "source": [
    "import random\n",
    "from lib import Nim\n",
    "from lib import RandomPlayer\n",
    "from lib import ExpertSystem\n",
    "from lib import MinMaxSystem"
   ]
  },
  {
   "cell_type": "markdown",
   "metadata": {},
   "source": [
    "## Games"
   ]
  },
  {
   "cell_type": "markdown",
   "metadata": {},
   "source": [
    "### Random vs Expert"
   ]
  },
  {
   "cell_type": "code",
   "execution_count": 2,
   "metadata": {},
   "outputs": [
    {
     "name": "stderr",
     "output_type": "stream",
     "text": [
      "INFO:root: Expert system won, moves have been: ['6 items from row 4', '1 items from row 0', '6 items from row 3', '1 items from row 1', '2 items from row 4', '11 items from row 5']; total: 6\n"
     ]
    },
    {
     "name": "stdout",
     "output_type": "stream",
     "text": [
      "Start game:  [1, 3, 5, 7, 9, 11, 13]\n",
      "Game after Random player played:  [1, 3, 0, 7, 9, 11, 13]\n",
      "Game after Expert system played:  [1, 3, 0, 7, 3, 11, 13]\n",
      "Game after Random player played:  [1, 3, 0, 7, 2, 11, 13]\n",
      "Game after Expert system played:  [0, 3, 0, 7, 2, 11, 13]\n",
      "Game after Random player played:  [0, 3, 0, 7, 2, 11, 11]\n",
      "Game after Expert system played:  [0, 3, 0, 1, 2, 11, 11]\n",
      "Game after Random player played:  [0, 3, 0, 0, 2, 11, 11]\n",
      "Game after Expert system played:  [0, 2, 0, 0, 2, 11, 11]\n",
      "Game after Random player played:  [0, 0, 0, 0, 2, 11, 11]\n",
      "Game after Expert system played:  [0, 0, 0, 0, 0, 11, 11]\n",
      "Game after Random player played:  [0, 0, 0, 0, 0, 11, 0]\n",
      "Game after Expert system played:  [0, 0, 0, 0, 0, 0, 0]\n"
     ]
    }
   ],
   "source": [
    "nim = Nim(7)\n",
    "player1 = RandomPlayer()\n",
    "player2 = ExpertSystem()\n",
    "win = random.choice([1, 2])\n",
    "print(\"Start game: \", nim._rows)\n",
    "while nim.goal() == False:\n",
    "    if win == 1:\n",
    "        player1.play(nim)\n",
    "        print(\"Game after Random player played: \", nim._rows)\n",
    "        win = 2\n",
    "    else:\n",
    "        player2.play(nim)\n",
    "        print(\"Game after Expert system played: \", nim._rows)\n",
    "        win = 1\n",
    "if win == 1:\n",
    "    player2.printSolution()\n",
    "else:\n",
    "    player1.printSolution()"
   ]
  },
  {
   "cell_type": "markdown",
   "metadata": {},
   "source": [
    "### Random vs MinMax"
   ]
  },
  {
   "cell_type": "code",
   "execution_count": 3,
   "metadata": {},
   "outputs": [
    {
     "name": "stderr",
     "output_type": "stream",
     "text": [
      "INFO:root: MinMax system won, moves have been: ['12 items from row 6', '10 items from row 5', '9 items from row 4', '7 items from row 3', '1 items from row 0', '1 items from row 5']; total: 6\n"
     ]
    },
    {
     "name": "stdout",
     "output_type": "stream",
     "text": [
      "Start game:  [1, 3, 5, 7, 9, 11, 13]\n",
      "Game after MinMax system played:  [1, 3, 5, 7, 9, 11, 1]\n",
      "Game after Random player played:  [1, 3, 1, 7, 9, 11, 1]\n",
      "Game after MinMax system played:  [1, 3, 1, 7, 9, 1, 1]\n",
      "Game after Random player played:  [1, 3, 0, 7, 9, 1, 1]\n",
      "Game after MinMax system played:  [1, 3, 0, 7, 0, 1, 1]\n",
      "Game after Random player played:  [1, 1, 0, 7, 0, 1, 1]\n",
      "Game after MinMax system played:  [1, 1, 0, 0, 0, 1, 1]\n",
      "Game after Random player played:  [1, 1, 0, 0, 0, 1, 0]\n",
      "Game after MinMax system played:  [0, 1, 0, 0, 0, 1, 0]\n",
      "Game after Random player played:  [0, 0, 0, 0, 0, 1, 0]\n",
      "Game after MinMax system played:  [0, 0, 0, 0, 0, 0, 0]\n"
     ]
    }
   ],
   "source": [
    "nim = Nim(7)\n",
    "player1 = RandomPlayer()\n",
    "player2 = MinMaxSystem()\n",
    "win = random.choice([1, 2])\n",
    "print(\"Start game: \", nim._rows)\n",
    "while nim.goal() == False:\n",
    "    if win == 1:\n",
    "        player1.play(nim)\n",
    "        print(\"Game after Random player played: \", nim._rows)\n",
    "        win = 2\n",
    "    else:\n",
    "        player2.play(nim)\n",
    "        print(\"Game after MinMax system played: \", nim._rows)\n",
    "        win = 1\n",
    "if win == 1:\n",
    "    player2.printSolution()\n",
    "else:\n",
    "    player1.printSolution()"
   ]
  },
  {
   "cell_type": "markdown",
   "metadata": {},
   "source": [
    "### Expert vs MinMax"
   ]
  },
  {
   "cell_type": "code",
   "execution_count": 4,
   "metadata": {},
   "outputs": [
    {
     "name": "stderr",
     "output_type": "stream",
     "text": [
      "INFO:root: Expert system won, moves have been: ['3 items from row 4', '5 items from row 5', '3 items from row 2', '5 items from row 5', '1 items from row 2', '1 items from row 2', '1 items from row 5']; total: 7\n"
     ]
    },
    {
     "name": "stdout",
     "output_type": "stream",
     "text": [
      "Start game:  [1, 3, 5, 7, 9, 11, 13]\n",
      "Game after Expert System played:  [1, 3, 5, 7, 6, 11, 13]\n",
      "Game after MinMax system played:  [1, 3, 5, 7, 6, 11, 0]\n",
      "Game after Expert System played:  [1, 3, 5, 7, 6, 6, 0]\n",
      "Game after MinMax system played:  [1, 3, 5, 0, 6, 6, 0]\n",
      "Game after Expert System played:  [1, 3, 2, 0, 6, 6, 0]\n",
      "Game after MinMax system played:  [1, 3, 2, 0, 1, 6, 0]\n",
      "Game after Expert System played:  [1, 3, 2, 0, 1, 1, 0]\n",
      "Game after MinMax system played:  [1, 0, 2, 0, 1, 1, 0]\n",
      "Game after Expert System played:  [1, 0, 1, 0, 1, 1, 0]\n",
      "Game after MinMax system played:  [0, 0, 1, 0, 1, 1, 0]\n",
      "Game after Expert System played:  [0, 0, 0, 0, 1, 1, 0]\n",
      "Game after MinMax system played:  [0, 0, 0, 0, 0, 1, 0]\n",
      "Game after Expert System played:  [0, 0, 0, 0, 0, 0, 0]\n"
     ]
    }
   ],
   "source": [
    "nim = Nim(7)\n",
    "player1 = ExpertSystem()\n",
    "player2 = MinMaxSystem()\n",
    "win = random.choice([1, 2])\n",
    "print(\"Start game: \", nim._rows)\n",
    "while nim.goal() == False:\n",
    "    if win == 1:\n",
    "        player1.play(nim)\n",
    "        print(\"Game after Expert System played: \", nim._rows)\n",
    "        win = 2\n",
    "    else:\n",
    "        player2.play(nim)\n",
    "        print(\"Game after MinMax system played: \", nim._rows)\n",
    "        win = 1\n",
    "if win == 1:\n",
    "    player2.printSolution()\n",
    "else:\n",
    "    player1.printSolution()"
   ]
  }
 ],
 "metadata": {
  "kernelspec": {
   "display_name": "Python 3.10.8 64-bit",
   "language": "python",
   "name": "python3"
  },
  "language_info": {
   "codemirror_mode": {
    "name": "ipython",
    "version": 3
   },
   "file_extension": ".py",
   "mimetype": "text/x-python",
   "name": "python",
   "nbconvert_exporter": "python",
   "pygments_lexer": "ipython3",
   "version": "3.10.8"
  },
  "orig_nbformat": 4,
  "vscode": {
   "interpreter": {
    "hash": "98b7f83ea1f6816592be813d0a9257f9f3e2d15bf5c320e3b781c72faa584dce"
   }
  }
 },
 "nbformat": 4,
 "nbformat_minor": 2
}
