{
 "cells": [
  {
   "cell_type": "markdown",
   "metadata": {},
   "source": [
    "## Imports"
   ]
  },
  {
   "cell_type": "code",
   "execution_count": 1,
   "metadata": {},
   "outputs": [],
   "source": [
    "import random\n",
    "from lib import Nim\n",
    "from lib import RandomPlayer\n",
    "from lib import ExpertSystem\n",
    "from lib import GeneticAlgorithmSystem\n",
    "from lib import MinMaxSystem"
   ]
  },
  {
   "cell_type": "markdown",
   "metadata": {},
   "source": [
    "## Games"
   ]
  },
  {
   "cell_type": "markdown",
   "metadata": {},
   "source": [
    "### Random vs Expert"
   ]
  },
  {
   "cell_type": "code",
   "execution_count": 2,
   "metadata": {},
   "outputs": [
    {
     "name": "stderr",
     "output_type": "stream",
     "text": [
      "INFO:root: Expert system won, moves have been: ['9 items from row 4', '2 items from row 1', '1 items from row 1', '11 items from row 6', '4 items from row 3', '3 items from row 2', '1 items from row 6']; total: 7\n"
     ]
    },
    {
     "name": "stdout",
     "output_type": "stream",
     "text": [
      "Start game:  [1, 3, 5, 7, 9, 11, 13]\n",
      "Game after Random player played:  [1, 3, 3, 7, 9, 11, 13]\n",
      "Game after Expert system played:  [1, 3, 3, 7, 0, 11, 13]\n",
      "Game after Random player played:  [1, 3, 3, 5, 0, 11, 13]\n",
      "Game after Expert system played:  [1, 1, 3, 5, 0, 11, 13]\n",
      "Game after Random player played:  [0, 1, 3, 5, 0, 11, 13]\n",
      "Game after Expert system played:  [0, 0, 3, 5, 0, 11, 13]\n",
      "Game after Random player played:  [0, 0, 3, 5, 0, 4, 13]\n",
      "Game after Expert system played:  [0, 0, 3, 5, 0, 4, 2]\n",
      "Game after Random player played:  [0, 0, 3, 5, 0, 0, 2]\n",
      "Game after Expert system played:  [0, 0, 3, 1, 0, 0, 2]\n",
      "Game after Random player played:  [0, 0, 3, 1, 0, 0, 1]\n",
      "Game after Expert system played:  [0, 0, 0, 1, 0, 0, 1]\n",
      "Game after Random player played:  [0, 0, 0, 0, 0, 0, 1]\n",
      "Game after Expert system played:  [0, 0, 0, 0, 0, 0, 0]\n"
     ]
    }
   ],
   "source": [
    "nim = Nim(7)\n",
    "player1 = RandomPlayer()\n",
    "player2 = ExpertSystem()\n",
    "win = random.choice([1, 2])\n",
    "print(\"Start game: \", nim._rows)\n",
    "while nim.goal() == False:\n",
    "    if win == 1:\n",
    "        player1.play(nim)\n",
    "        print(\"Game after Random player played: \", nim._rows)\n",
    "        win = 2\n",
    "    else:\n",
    "        player2.play(nim)\n",
    "        print(\"Game after Expert system played: \", nim._rows)\n",
    "        win = 1\n",
    "if win == 1:\n",
    "    player2.printSolution()\n",
    "else:\n",
    "    player1.printSolution()"
   ]
  },
  {
   "cell_type": "markdown",
   "metadata": {},
   "source": [
    "### Random vs Genetic Algorithm"
   ]
  },
  {
   "cell_type": "code",
   "execution_count": 2,
   "metadata": {},
   "outputs": [
    {
     "name": "stderr",
     "output_type": "stream",
     "text": [
      "INFO:root: Genetic Algorithm system won, moves have been: ['1 items from row 0', '2 items from row 6', '1 items from row 1', '4 items from row 3', '9 items from row 4', '2 items from row 6', '2 items from row 1', '1 items from row 2']; total: 8\n"
     ]
    },
    {
     "name": "stdout",
     "output_type": "stream",
     "text": [
      "Start game:  [1, 3, 5, 7, 9, 11, 13]\n",
      "Game after Genetic Algorithm system played:  [0, 3, 5, 7, 9, 11, 13]\n",
      "Game after Random player played:  [0, 3, 5, 4, 9, 11, 13]\n",
      "Game after Genetic Algorithm system played:  [0, 3, 5, 4, 9, 11, 11]\n",
      "Game after Random player played:  [0, 3, 5, 4, 9, 8, 11]\n",
      "Game after Genetic Algorithm system played:  [0, 2, 5, 4, 9, 8, 11]\n",
      "Game after Random player played:  [0, 2, 1, 4, 9, 8, 11]\n",
      "Game after Genetic Algorithm system played:  [0, 2, 1, 0, 9, 8, 11]\n",
      "Game after Random player played:  [0, 2, 1, 0, 9, 1, 11]\n",
      "Game after Genetic Algorithm system played:  [0, 2, 1, 0, 0, 1, 11]\n",
      "Game after Random player played:  [0, 2, 1, 0, 0, 1, 6]\n",
      "Game after Genetic Algorithm system played:  [0, 2, 1, 0, 0, 1, 4]\n",
      "Game after Random player played:  [0, 2, 1, 0, 0, 1, 0]\n",
      "Game after Genetic Algorithm system played:  [0, 0, 1, 0, 0, 1, 0]\n",
      "Game after Random player played:  [0, 0, 1, 0, 0, 0, 0]\n",
      "Game after Genetic Algorithm system played:  [0, 0, 0, 0, 0, 0, 0]\n"
     ]
    }
   ],
   "source": [
    "nim = Nim(7)\n",
    "player1 = RandomPlayer()\n",
    "player2 = GeneticAlgorithmSystem()\n",
    "parameters = player2.evolution(nim, player1)\n",
    "win = random.choice([1, 2])\n",
    "print(\"Start game: \", nim._rows)\n",
    "while nim.goal() == False:\n",
    "    if win == 1:\n",
    "        player1.play(nim)\n",
    "        print(\"Game after Random player played: \", nim._rows)\n",
    "        win = 2\n",
    "    else:\n",
    "        player2.play(nim, parameters)\n",
    "        print(\"Game after Genetic Algorithm system played: \", nim._rows)\n",
    "        win = 1\n",
    "if win == 1:\n",
    "    player2.printSolution()\n",
    "else:\n",
    "    player1.printSolution()"
   ]
  },
  {
   "cell_type": "markdown",
   "metadata": {},
   "source": [
    "### Expert vs Genetic Algorithm"
   ]
  },
  {
   "cell_type": "code",
   "execution_count": 4,
   "metadata": {},
   "outputs": [
    {
     "name": "stderr",
     "output_type": "stream",
     "text": [
      "INFO:root: Expert system won, moves have been: ['3 items from row 4', '1 items from row 1', '3 items from row 3', '2 items from row 2', '7 items from row 6', '1 items from row 2', '1 items from row 6', '3 items from row 3', '1 items from row 3']; total: 9\n"
     ]
    },
    {
     "name": "stdout",
     "output_type": "stream",
     "text": [
      "Start game:  [1, 3, 5, 7, 9, 11, 13]\n",
      "Game after Expert System played:  [1, 3, 5, 7, 6, 11, 13]\n",
      "Game after Genetic Algorithm system played:  [0, 3, 5, 7, 6, 11, 13]\n",
      "Game after Expert System played:  [0, 2, 5, 7, 6, 11, 13]\n",
      "Game after Genetic Algorithm system played:  [0, 1, 5, 7, 6, 11, 13]\n",
      "Game after Expert System played:  [0, 1, 5, 4, 6, 11, 13]\n",
      "Game after Genetic Algorithm system played:  [0, 1, 5, 4, 0, 11, 13]\n",
      "Game after Expert System played:  [0, 1, 3, 4, 0, 11, 13]\n",
      "Game after Genetic Algorithm system played:  [0, 1, 3, 4, 0, 0, 13]\n",
      "Game after Expert System played:  [0, 1, 3, 4, 0, 0, 6]\n",
      "Game after Genetic Algorithm system played:  [0, 0, 3, 4, 0, 0, 6]\n",
      "Game after Expert System played:  [0, 0, 2, 4, 0, 0, 6]\n",
      "Game after Genetic Algorithm system played:  [0, 0, 1, 4, 0, 0, 6]\n",
      "Game after Expert System played:  [0, 0, 1, 4, 0, 0, 5]\n",
      "Game after Genetic Algorithm system played:  [0, 0, 1, 4, 0, 0, 0]\n",
      "Game after Expert System played:  [0, 0, 1, 1, 0, 0, 0]\n",
      "Game after Genetic Algorithm system played:  [0, 0, 0, 1, 0, 0, 0]\n",
      "Game after Expert System played:  [0, 0, 0, 0, 0, 0, 0]\n"
     ]
    }
   ],
   "source": [
    "nim = Nim(7)\n",
    "player1 = ExpertSystem()\n",
    "player2 = GeneticAlgorithmSystem()\n",
    "player3 = RandomPlayer()\n",
    "parameters = player2.evolution(nim, player3)\n",
    "win = random.choice([1, 2])\n",
    "print(\"Start game: \", nim._rows)\n",
    "while nim.goal() == False:\n",
    "    if win == 1:\n",
    "        player1.play(nim)\n",
    "        print(\"Game after Expert System played: \", nim._rows)\n",
    "        win = 2\n",
    "    else:\n",
    "        player2.play(nim, parameters)\n",
    "        print(\"Game after Genetic Algorithm system played: \", nim._rows)\n",
    "        win = 1\n",
    "if win == 1:\n",
    "    player2.printSolution()\n",
    "else:\n",
    "    player1.printSolution()"
   ]
  },
  {
   "cell_type": "markdown",
   "metadata": {},
   "source": [
    "### Random vs MinMax"
   ]
  },
  {
   "cell_type": "code",
   "execution_count": 2,
   "metadata": {},
   "outputs": [
    {
     "name": "stdout",
     "output_type": "stream",
     "text": [
      "Start game:  [1, 3, 5, 7, 9, 11, 13]\n",
      "Game after Random player played:  [1, 3, 5, 7, 8, 11, 13]\n"
     ]
    },
    {
     "ename": "AssertionError",
     "evalue": "",
     "output_type": "error",
     "traceback": [
      "\u001b[1;31m---------------------------------------------------------------------------\u001b[0m",
      "\u001b[1;31mAssertionError\u001b[0m                            Traceback (most recent call last)",
      "Cell \u001b[1;32mIn [2], line 12\u001b[0m\n\u001b[0;32m     10\u001b[0m     win \u001b[39m=\u001b[39m \u001b[39m2\u001b[39m\n\u001b[0;32m     11\u001b[0m \u001b[39melse\u001b[39;00m:\n\u001b[1;32m---> 12\u001b[0m     player2\u001b[39m.\u001b[39;49mplay(nim)\n\u001b[0;32m     13\u001b[0m     \u001b[39mprint\u001b[39m(\u001b[39m\"\u001b[39m\u001b[39mGame after MinMax system played: \u001b[39m\u001b[39m\"\u001b[39m, nim\u001b[39m.\u001b[39m_rows)\n\u001b[0;32m     14\u001b[0m     win \u001b[39m=\u001b[39m \u001b[39m1\u001b[39m\n",
      "File \u001b[1;32mc:\\Users\\diego\\Desktop\\Diego\\QuintoAnno\\ComputationalIntelligence\\Computational_Intelligence\\lab3\\lib.py:172\u001b[0m, in \u001b[0;36mMinMaxSystem.play\u001b[1;34m(self, nim)\u001b[0m\n\u001b[0;32m    171\u001b[0m \u001b[39mdef\u001b[39;00m \u001b[39mplay\u001b[39m(\u001b[39mself\u001b[39m, nim: Nim):\n\u001b[1;32m--> 172\u001b[0m     best_ply, _ \u001b[39m=\u001b[39m \u001b[39mself\u001b[39;49m\u001b[39m.\u001b[39;49mminmax(nim, player\u001b[39m=\u001b[39;49m\u001b[39mTrue\u001b[39;49;00m, step\u001b[39m=\u001b[39;49m\u001b[39m1\u001b[39;49m)\n\u001b[0;32m    173\u001b[0m     nim\u001b[39m.\u001b[39mnimming_remove(best_ply[\u001b[39m0\u001b[39m], best_ply[\u001b[39m1\u001b[39m])\n\u001b[0;32m    174\u001b[0m     \u001b[39mself\u001b[39m\u001b[39m.\u001b[39m_nMoves \u001b[39m+\u001b[39m\u001b[39m=\u001b[39m \u001b[39m1\u001b[39m\n",
      "File \u001b[1;32mc:\\Users\\diego\\Desktop\\Diego\\QuintoAnno\\ComputationalIntelligence\\Computational_Intelligence\\lab3\\lib.py:166\u001b[0m, in \u001b[0;36mMinMaxSystem.minmax\u001b[1;34m(self, nim, player, step)\u001b[0m\n\u001b[0;32m    164\u001b[0m     nim\u001b[39m.\u001b[39mnimming_remove(ply[\u001b[39m0\u001b[39m], ply[\u001b[39m1\u001b[39m])\n\u001b[0;32m    165\u001b[0m     \u001b[39m# Recursive call\u001b[39;00m\n\u001b[1;32m--> 166\u001b[0m     _, val \u001b[39m=\u001b[39m \u001b[39mself\u001b[39;49m\u001b[39m.\u001b[39;49mminmax(nim, \u001b[39mnot\u001b[39;49;00m player, step\u001b[39m+\u001b[39;49m\u001b[39m1\u001b[39;49m)\n\u001b[0;32m    167\u001b[0m     evaluations\u001b[39m.\u001b[39mappend((ply, val))\n\u001b[0;32m    168\u001b[0m \u001b[39m# Return the lightweight solution trough the found ones\u001b[39;00m\n",
      "File \u001b[1;32mc:\\Users\\diego\\Desktop\\Diego\\QuintoAnno\\ComputationalIntelligence\\Computational_Intelligence\\lab3\\lib.py:166\u001b[0m, in \u001b[0;36mMinMaxSystem.minmax\u001b[1;34m(self, nim, player, step)\u001b[0m\n\u001b[0;32m    164\u001b[0m     nim\u001b[39m.\u001b[39mnimming_remove(ply[\u001b[39m0\u001b[39m], ply[\u001b[39m1\u001b[39m])\n\u001b[0;32m    165\u001b[0m     \u001b[39m# Recursive call\u001b[39;00m\n\u001b[1;32m--> 166\u001b[0m     _, val \u001b[39m=\u001b[39m \u001b[39mself\u001b[39;49m\u001b[39m.\u001b[39;49mminmax(nim, \u001b[39mnot\u001b[39;49;00m player, step\u001b[39m+\u001b[39;49m\u001b[39m1\u001b[39;49m)\n\u001b[0;32m    167\u001b[0m     evaluations\u001b[39m.\u001b[39mappend((ply, val))\n\u001b[0;32m    168\u001b[0m \u001b[39m# Return the lightweight solution trough the found ones\u001b[39;00m\n",
      "File \u001b[1;32mc:\\Users\\diego\\Desktop\\Diego\\QuintoAnno\\ComputationalIntelligence\\Computational_Intelligence\\lab3\\lib.py:164\u001b[0m, in \u001b[0;36mMinMaxSystem.minmax\u001b[1;34m(self, nim, player, step)\u001b[0m\n\u001b[0;32m    162\u001b[0m evaluations \u001b[39m=\u001b[39m \u001b[39mlist\u001b[39m()\n\u001b[0;32m    163\u001b[0m \u001b[39mfor\u001b[39;00m ply \u001b[39min\u001b[39;00m possible:\n\u001b[1;32m--> 164\u001b[0m     nim\u001b[39m.\u001b[39;49mnimming_remove(ply[\u001b[39m0\u001b[39;49m], ply[\u001b[39m1\u001b[39;49m])\n\u001b[0;32m    165\u001b[0m     \u001b[39m# Recursive call\u001b[39;00m\n\u001b[0;32m    166\u001b[0m     _, val \u001b[39m=\u001b[39m \u001b[39mself\u001b[39m\u001b[39m.\u001b[39mminmax(nim, \u001b[39mnot\u001b[39;00m player, step\u001b[39m+\u001b[39m\u001b[39m1\u001b[39m)\n",
      "File \u001b[1;32mc:\\Users\\diego\\Desktop\\Diego\\QuintoAnno\\ComputationalIntelligence\\Computational_Intelligence\\lab3\\lib.py:14\u001b[0m, in \u001b[0;36mNim.nimming_remove\u001b[1;34m(self, row, num_objects)\u001b[0m\n\u001b[0;32m     13\u001b[0m \u001b[39mdef\u001b[39;00m \u001b[39mnimming_remove\u001b[39m(\u001b[39mself\u001b[39m, row: \u001b[39mint\u001b[39m, num_objects: \u001b[39mint\u001b[39m) \u001b[39m-\u001b[39m\u001b[39m>\u001b[39m \u001b[39mNone\u001b[39;00m:\n\u001b[1;32m---> 14\u001b[0m     \u001b[39massert\u001b[39;00m \u001b[39mself\u001b[39m\u001b[39m.\u001b[39m_rows[row] \u001b[39m>\u001b[39m\u001b[39m=\u001b[39m num_objects\n\u001b[0;32m     15\u001b[0m     \u001b[39massert\u001b[39;00m \u001b[39mself\u001b[39m\u001b[39m.\u001b[39m_k \u001b[39mis\u001b[39;00m \u001b[39mNone\u001b[39;00m \u001b[39mor\u001b[39;00m num_objects \u001b[39m<\u001b[39m \u001b[39mself\u001b[39m\u001b[39m.\u001b[39m_k\n\u001b[0;32m     16\u001b[0m     \u001b[39mself\u001b[39m\u001b[39m.\u001b[39m_rows[row] \u001b[39m-\u001b[39m\u001b[39m=\u001b[39m num_objects\n",
      "\u001b[1;31mAssertionError\u001b[0m: "
     ]
    }
   ],
   "source": [
    "nim = Nim(7)\n",
    "player1 = RandomPlayer()\n",
    "player2 = MinMaxSystem()\n",
    "win = random.choice([1, 2])\n",
    "print(\"Start game: \", nim._rows)\n",
    "while nim.goal() == False:\n",
    "    if win == 1:\n",
    "        player1.play(nim)\n",
    "        print(\"Game after Random player played: \", nim._rows)\n",
    "        win = 2\n",
    "    else:\n",
    "        player2.play(nim)\n",
    "        print(\"Game after MinMax system played: \", nim._rows)\n",
    "        win = 1\n",
    "if win == 1:\n",
    "    player2.printSolution()\n",
    "else:\n",
    "    player1.printSolution()"
   ]
  },
  {
   "cell_type": "markdown",
   "metadata": {},
   "source": [
    "### Expert vs MinMax"
   ]
  },
  {
   "cell_type": "code",
   "execution_count": 4,
   "metadata": {},
   "outputs": [
    {
     "name": "stdout",
     "output_type": "stream",
     "text": [
      "Start game:  [1, 3, 5, 7, 9, 11, 13]\n",
      "Game after Expert System played:  [1, 3, 5, 7, 6, 11, 13]\n"
     ]
    },
    {
     "ename": "AssertionError",
     "evalue": "",
     "output_type": "error",
     "traceback": [
      "\u001b[1;31m---------------------------------------------------------------------------\u001b[0m",
      "\u001b[1;31mAssertionError\u001b[0m                            Traceback (most recent call last)",
      "Cell \u001b[1;32mIn [4], line 12\u001b[0m\n\u001b[0;32m     10\u001b[0m     win \u001b[39m=\u001b[39m \u001b[39m2\u001b[39m\n\u001b[0;32m     11\u001b[0m \u001b[39melse\u001b[39;00m:\n\u001b[1;32m---> 12\u001b[0m     player2\u001b[39m.\u001b[39;49mplay(nim)\n\u001b[0;32m     13\u001b[0m     \u001b[39mprint\u001b[39m(\u001b[39m\"\u001b[39m\u001b[39mGame after MinMax system played: \u001b[39m\u001b[39m\"\u001b[39m, nim\u001b[39m.\u001b[39m_rows)\n\u001b[0;32m     14\u001b[0m     win \u001b[39m=\u001b[39m \u001b[39m1\u001b[39m\n",
      "File \u001b[1;32mc:\\Users\\diego\\Desktop\\Diego\\QuintoAnno\\ComputationalIntelligence\\Computational_Intelligence\\lab3\\lib.py:172\u001b[0m, in \u001b[0;36mMinMaxSystem.play\u001b[1;34m(self, nim)\u001b[0m\n\u001b[0;32m    171\u001b[0m \u001b[39mdef\u001b[39;00m \u001b[39mplay\u001b[39m(\u001b[39mself\u001b[39m, nim: Nim):\n\u001b[1;32m--> 172\u001b[0m     best_ply, _ \u001b[39m=\u001b[39m \u001b[39mself\u001b[39;49m\u001b[39m.\u001b[39;49mminmax(nim, player\u001b[39m=\u001b[39;49m\u001b[39mTrue\u001b[39;49;00m, step\u001b[39m=\u001b[39;49m\u001b[39m1\u001b[39;49m)\n\u001b[0;32m    173\u001b[0m     nim\u001b[39m.\u001b[39mnimming_remove(best_ply[\u001b[39m0\u001b[39m], best_ply[\u001b[39m1\u001b[39m])\n\u001b[0;32m    174\u001b[0m     \u001b[39mself\u001b[39m\u001b[39m.\u001b[39m_nMoves \u001b[39m+\u001b[39m\u001b[39m=\u001b[39m \u001b[39m1\u001b[39m\n",
      "File \u001b[1;32mc:\\Users\\diego\\Desktop\\Diego\\QuintoAnno\\ComputationalIntelligence\\Computational_Intelligence\\lab3\\lib.py:166\u001b[0m, in \u001b[0;36mMinMaxSystem.minmax\u001b[1;34m(self, nim, player, step)\u001b[0m\n\u001b[0;32m    164\u001b[0m     nim\u001b[39m.\u001b[39mnimming_remove(ply[\u001b[39m0\u001b[39m], ply[\u001b[39m1\u001b[39m])\n\u001b[0;32m    165\u001b[0m     \u001b[39m# Recursive call\u001b[39;00m\n\u001b[1;32m--> 166\u001b[0m     _, val \u001b[39m=\u001b[39m \u001b[39mself\u001b[39;49m\u001b[39m.\u001b[39;49mminmax(nim, \u001b[39mnot\u001b[39;49;00m player, step\u001b[39m+\u001b[39;49m\u001b[39m1\u001b[39;49m)\n\u001b[0;32m    167\u001b[0m     evaluations\u001b[39m.\u001b[39mappend((ply, val))\n\u001b[0;32m    168\u001b[0m \u001b[39m# Return the lightweight solution trough the found ones\u001b[39;00m\n",
      "File \u001b[1;32mc:\\Users\\diego\\Desktop\\Diego\\QuintoAnno\\ComputationalIntelligence\\Computational_Intelligence\\lab3\\lib.py:166\u001b[0m, in \u001b[0;36mMinMaxSystem.minmax\u001b[1;34m(self, nim, player, step)\u001b[0m\n\u001b[0;32m    164\u001b[0m     nim\u001b[39m.\u001b[39mnimming_remove(ply[\u001b[39m0\u001b[39m], ply[\u001b[39m1\u001b[39m])\n\u001b[0;32m    165\u001b[0m     \u001b[39m# Recursive call\u001b[39;00m\n\u001b[1;32m--> 166\u001b[0m     _, val \u001b[39m=\u001b[39m \u001b[39mself\u001b[39;49m\u001b[39m.\u001b[39;49mminmax(nim, \u001b[39mnot\u001b[39;49;00m player, step\u001b[39m+\u001b[39;49m\u001b[39m1\u001b[39;49m)\n\u001b[0;32m    167\u001b[0m     evaluations\u001b[39m.\u001b[39mappend((ply, val))\n\u001b[0;32m    168\u001b[0m \u001b[39m# Return the lightweight solution trough the found ones\u001b[39;00m\n",
      "File \u001b[1;32mc:\\Users\\diego\\Desktop\\Diego\\QuintoAnno\\ComputationalIntelligence\\Computational_Intelligence\\lab3\\lib.py:164\u001b[0m, in \u001b[0;36mMinMaxSystem.minmax\u001b[1;34m(self, nim, player, step)\u001b[0m\n\u001b[0;32m    162\u001b[0m evaluations \u001b[39m=\u001b[39m \u001b[39mlist\u001b[39m()\n\u001b[0;32m    163\u001b[0m \u001b[39mfor\u001b[39;00m ply \u001b[39min\u001b[39;00m possible:\n\u001b[1;32m--> 164\u001b[0m     nim\u001b[39m.\u001b[39;49mnimming_remove(ply[\u001b[39m0\u001b[39;49m], ply[\u001b[39m1\u001b[39;49m])\n\u001b[0;32m    165\u001b[0m     \u001b[39m# Recursive call\u001b[39;00m\n\u001b[0;32m    166\u001b[0m     _, val \u001b[39m=\u001b[39m \u001b[39mself\u001b[39m\u001b[39m.\u001b[39mminmax(nim, \u001b[39mnot\u001b[39;00m player, step\u001b[39m+\u001b[39m\u001b[39m1\u001b[39m)\n",
      "File \u001b[1;32mc:\\Users\\diego\\Desktop\\Diego\\QuintoAnno\\ComputationalIntelligence\\Computational_Intelligence\\lab3\\lib.py:14\u001b[0m, in \u001b[0;36mNim.nimming_remove\u001b[1;34m(self, row, num_objects)\u001b[0m\n\u001b[0;32m     13\u001b[0m \u001b[39mdef\u001b[39;00m \u001b[39mnimming_remove\u001b[39m(\u001b[39mself\u001b[39m, row: \u001b[39mint\u001b[39m, num_objects: \u001b[39mint\u001b[39m) \u001b[39m-\u001b[39m\u001b[39m>\u001b[39m \u001b[39mNone\u001b[39;00m:\n\u001b[1;32m---> 14\u001b[0m     \u001b[39massert\u001b[39;00m \u001b[39mself\u001b[39m\u001b[39m.\u001b[39m_rows[row] \u001b[39m>\u001b[39m\u001b[39m=\u001b[39m num_objects\n\u001b[0;32m     15\u001b[0m     \u001b[39massert\u001b[39;00m \u001b[39mself\u001b[39m\u001b[39m.\u001b[39m_k \u001b[39mis\u001b[39;00m \u001b[39mNone\u001b[39;00m \u001b[39mor\u001b[39;00m num_objects \u001b[39m<\u001b[39m \u001b[39mself\u001b[39m\u001b[39m.\u001b[39m_k\n\u001b[0;32m     16\u001b[0m     \u001b[39mself\u001b[39m\u001b[39m.\u001b[39m_rows[row] \u001b[39m-\u001b[39m\u001b[39m=\u001b[39m num_objects\n",
      "\u001b[1;31mAssertionError\u001b[0m: "
     ]
    }
   ],
   "source": [
    "nim = Nim(7)\n",
    "player1 = ExpertSystem()\n",
    "player2 = MinMaxSystem()\n",
    "win = random.choice([1, 2])\n",
    "print(\"Start game: \", nim._rows)\n",
    "while nim.goal() == False:\n",
    "    if win == 1:\n",
    "        player1.play(nim)\n",
    "        print(\"Game after Expert System played: \", nim._rows)\n",
    "        win = 2\n",
    "    else:\n",
    "        player2.play(nim)\n",
    "        print(\"Game after MinMax system played: \", nim._rows)\n",
    "        win = 1\n",
    "if win == 1:\n",
    "    player2.printSolution()\n",
    "else:\n",
    "    player1.printSolution()"
   ]
  },
  {
   "cell_type": "markdown",
   "metadata": {},
   "source": [
    "### MinMax vs Genetic Algorithm"
   ]
  },
  {
   "cell_type": "code",
   "execution_count": 19,
   "metadata": {},
   "outputs": [
    {
     "name": "stderr",
     "output_type": "stream",
     "text": [
      "INFO:root: Genetic Algorithm system won, moves have been: ['11 items from row 6', '1 items from row 6', '1 items from row 0', '3 items from row 2', '1 items from row 2', '1 items from row 6']; total: 6\n"
     ]
    },
    {
     "name": "stdout",
     "output_type": "stream",
     "text": [
      "Start game:  [1, 3, 5, 7, 9, 11, 13]\n",
      "4\n",
      "Game after Genetic Algorithm system played:  [1, 3, 5, 7, 9, 11, 2]\n",
      "Game after MinMax system played:  [1, 3, 5, 7, 9, 0, 2]\n",
      "4\n",
      "Game after Genetic Algorithm system played:  [1, 3, 5, 7, 9, 0, 1]\n",
      "Game after MinMax system played:  [1, 3, 5, 7, 0, 0, 1]\n",
      "4\n",
      "Game after Genetic Algorithm system played:  [0, 3, 5, 7, 0, 0, 1]\n",
      "Game after MinMax system played:  [0, 3, 5, 0, 0, 0, 1]\n",
      "4\n",
      "Game after Genetic Algorithm system played:  [0, 3, 2, 0, 0, 0, 1]\n",
      "Game after MinMax system played:  [0, 0, 2, 0, 0, 0, 1]\n",
      "4\n",
      "Game after Genetic Algorithm system played:  [0, 0, 1, 0, 0, 0, 1]\n",
      "Game after MinMax system played:  [0, 0, 0, 0, 0, 0, 1]\n",
      "4\n",
      "Game after Genetic Algorithm system played:  [0, 0, 0, 0, 0, 0, 0]\n"
     ]
    }
   ],
   "source": [
    "nim = Nim(7)\n",
    "player1 = GeneticAlgorithmSystem()\n",
    "player2 = MinMaxSystem()\n",
    "player3 = RandomPlayer()\n",
    "player1.evolve(nim, player3)\n",
    "win = random.choice([1, 2])\n",
    "print(\"Start game: \", nim._rows)\n",
    "while nim.goal() == False:\n",
    "    if win == 1:\n",
    "        player1.play(nim)\n",
    "        print(\"Game after Genetic Algorithm system played: \", nim._rows)\n",
    "        win = 2\n",
    "    else:\n",
    "        player2.play(nim)\n",
    "        print(\"Game after MinMax system played: \", nim._rows)\n",
    "        win = 1\n",
    "if win == 1:\n",
    "    player2.printSolution()\n",
    "else:\n",
    "    player1.printSolution()"
   ]
  }
 ],
 "metadata": {
  "kernelspec": {
   "display_name": "Python 3.10.8 64-bit",
   "language": "python",
   "name": "python3"
  },
  "language_info": {
   "codemirror_mode": {
    "name": "ipython",
    "version": 3
   },
   "file_extension": ".py",
   "mimetype": "text/x-python",
   "name": "python",
   "nbconvert_exporter": "python",
   "pygments_lexer": "ipython3",
   "version": "3.10.8"
  },
  "orig_nbformat": 4,
  "vscode": {
   "interpreter": {
    "hash": "98b7f83ea1f6816592be813d0a9257f9f3e2d15bf5c320e3b781c72faa584dce"
   }
  }
 },
 "nbformat": 4,
 "nbformat_minor": 2
}
